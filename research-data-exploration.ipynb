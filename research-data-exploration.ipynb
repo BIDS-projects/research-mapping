{
 "cells": [
  {
   "cell_type": "code",
   "execution_count": 1,
   "metadata": {
    "collapsed": false
   },
   "outputs": [],
   "source": [
    "import matplotlib\n",
    "%matplotlib inline\n",
    "import matplotlib.pyplot as plt\n",
    "plt.style.use('fivethirtyeight')\n",
    "import pandas as pd\n",
    "\n",
    "from datascience import *\n",
    "import numpy as np\n",
    "\n",
    "import locale\n",
    "import re\n",
    "import csv"
   ]
  },
  {
   "cell_type": "markdown",
   "metadata": {},
   "source": [
    "### Initial Analysis of Data Set\n",
    "\n",
    "- Which departments get the most funding? \n",
    "- What type of research do they conduct? \n",
    "- Where is the money coming from, by department?"
   ]
  },
  {
   "cell_type": "code",
   "execution_count": 2,
   "metadata": {
    "collapsed": false
   },
   "outputs": [],
   "source": [
    "grant_data = Table.read_table('grant_data.csv')"
   ]
  },
  {
   "cell_type": "code",
   "execution_count": 3,
   "metadata": {
    "collapsed": false
   },
   "outputs": [
    {
     "data": {
      "text/html": [
       "<table border=\"1\" class=\"dataframe\">\n",
       "    <thead>\n",
       "        <tr>\n",
       "            <th>Activity Type</th> <th>Amount</th> <th>Sponsor Class</th> <th>Sponsor</th> <th>Division</th> <th>Department</th> <th>Fund</th> <th>UCB Award Number</th> <th>PI Name</th> <th>Project Begin Date</th> <th>Project End Date</th> <th>Title</th> <th>Dept/Division</th> <th>Grant Amount</th> <th>Year</th>\n",
       "        </tr>\n",
       "    </thead>\n",
       "    <tbody>\n",
       "        <tr>\n",
       "            <td>Applied research</td> <td>$179,032 </td> <td>State of California     </td> <td>California Department of Health Care Services         </td> <td>School of Public Health             </td> <td>nan                                                        </td> <td>15952</td> <td>021331-002      </td> <td>Colford Jr, John M       </td> <td>7/1/2006          </td> <td>9/30/2006       </td> <td>DNS AIDS Training                                           </td> <td>Public Health                                              </td> <td>179032      </td> <td>2006</td>\n",
       "        </tr>\n",
       "    </tbody>\n",
       "        <tr>\n",
       "            <td>Basic research  </td> <td>$154,578 </td> <td>State of California     </td> <td>California Department of Social Services              </td> <td>School of Social Welfare            </td> <td>nan                                                        </td> <td>15959</td> <td>021362-002      </td> <td>Needell, Barbara         </td> <td>7/1/2006          </td> <td>9/30/2006       </td> <td>Performance Indicators/California Children's Services Ar ...</td> <td>Social Welfare                                             </td> <td>154578      </td> <td>2006</td>\n",
       "        </tr>\n",
       "    </tbody>\n",
       "        <tr>\n",
       "            <td>Instruction     </td> <td>$225,000 </td> <td>State of California     </td> <td>California Department of Social Services              </td> <td>School of Social Welfare            </td> <td>Social Welfare                                             </td> <td>15960</td> <td>021363-002      </td> <td>Midgley, James           </td> <td>7/1/2006          </td> <td>9/30/2006       </td> <td>Title IV-E Social Work Training Program                     </td> <td>Social Welfare                                             </td> <td>225000      </td> <td>2006</td>\n",
       "        </tr>\n",
       "    </tbody>\n",
       "        <tr>\n",
       "            <td>Instruction     </td> <td>$47,138  </td> <td>State of California     </td> <td>California Department of Social Services              </td> <td>School of Social Welfare            </td> <td>Social Welfare                                             </td> <td>15960</td> <td>021363-002      </td> <td>Midgley, James           </td> <td>7/1/2006          </td> <td>9/30/2006       </td> <td>Title IV-E Social Work Training Program                     </td> <td>Social Welfare                                             </td> <td>47138       </td> <td>2006</td>\n",
       "        </tr>\n",
       "    </tbody>\n",
       "        <tr>\n",
       "            <td>Basic research  </td> <td>$65,000  </td> <td>Federal                 </td> <td>NIH National Institutes of Health - Miscellaneous     </td> <td>VC Res Other Research Units         </td> <td>The California Institute for Quantitative Biosciences (QB3)</td> <td>78561</td> <td>021425-002      </td> <td>Keasling, Jay            </td> <td>7/1/2006          </td> <td>12/31/2006      </td> <td>Model-Driven Strain Engineering for Isoprenoid Drug Prod ...</td> <td>The California Institute for Quantitative Biosciences (QB3)</td> <td>65000       </td> <td>2006</td>\n",
       "        </tr>\n",
       "    </tbody>\n",
       "        <tr>\n",
       "            <td>Other           </td> <td>$30,937  </td> <td>Not for Profit          </td> <td>E.J. Slosson Endowment Fund                           </td> <td>VC Research Museums & Field Stations</td> <td>Botanical Garden                                           </td> <td>91478</td> <td>020907-002      </td> <td>Carmichael, A Christopher</td> <td>7/1/2006          </td> <td>6/30/2007       </td> <td>UC Botanical Garden Interpretive Project                    </td> <td>Botanical Garden                                           </td> <td>30937       </td> <td>2006</td>\n",
       "        </tr>\n",
       "    </tbody>\n",
       "        <tr>\n",
       "            <td>Other           </td> <td>$0       </td> <td>Not for Profit          </td> <td>E.J. Slosson Endowment Fund                           </td> <td>VC Research Museums & Field Stations</td> <td>Botanical Garden                                           </td> <td>91478</td> <td>020907-002      </td> <td>Carmichael, A Christopher</td> <td>7/1/2006          </td> <td>6/30/2007       </td> <td>UC Botanical Garden Interpretive Project                    </td> <td>Botanical Garden                                           </td> <td>0           </td> <td>2006</td>\n",
       "        </tr>\n",
       "    </tbody>\n",
       "        <tr>\n",
       "            <td>Basic research  </td> <td>$55,474  </td> <td>Federal                 </td> <td>NSF National Science Foundation                       </td> <td>Division of Physical Sciences       </td> <td>Berkeley Seismological Laboratory                          </td> <td>11089</td> <td>021063-002      </td> <td>Nadeau, Robert           </td> <td>7/1/2006          </td> <td>6/30/2007       </td> <td>Seismic Indicators of Time-Varying Deep Deformation Alon ...</td> <td>Berkeley Seismological Laboratory                          </td> <td>55474       </td> <td>2006</td>\n",
       "        </tr>\n",
       "    </tbody>\n",
       "        <tr>\n",
       "            <td>Basic research  </td> <td>$27,000  </td> <td>Not for Profit          </td> <td>California Walnut Board (Frmly Walnut Marketing Board)</td> <td>CNR College of Natural Resources    </td> <td>Environmental Science, Policy & Management                 </td> <td>78527</td> <td>021120-002      </td> <td>Welter, Stephen C        </td> <td>7/1/2006          </td> <td>6/30/2007       </td> <td>Evaluation of Alternative Pheromone Dispensing Technologies </td> <td>Environmental Science, Policy & Management                 </td> <td>27000       </td> <td>2006</td>\n",
       "        </tr>\n",
       "    </tbody>\n",
       "        <tr>\n",
       "            <td>Basic research  </td> <td>$50,000  </td> <td>University of California</td> <td>UC Biotechnology Research and Education (BREP)        </td> <td>Division of Physical Sciences       </td> <td>Physics                                                    </td> <td>nan  </td> <td>021264-002      </td> <td>Liphardt, Jan T          </td> <td>7/1/2006          </td> <td>6/30/2007       </td> <td>Model System to Study Translocation of Single Biopolymer ...</td> <td>Physics                                                    </td> <td>50000       </td> <td>2006</td>\n",
       "        </tr>\n",
       "    </tbody>\n",
       "</table>\n",
       "<p>... (39812 rows omitted)</p"
      ],
      "text/plain": [
       "Activity Type    | Amount    | Sponsor Class            | Sponsor                                                | Division                             | Department                                                  | Fund  | UCB Award Number | PI Name                   | Project Begin Date | Project End Date | Title                                                        | Dept/Division                                               | Grant Amount | Year\n",
       "Applied research | $179,032  | State of California      | California Department of Health Care Services          | School of Public Health              | nan                                                         | 15952 | 021331-002       | Colford Jr, John M        | 7/1/2006           | 9/30/2006        | DNS AIDS Training                                            | Public Health                                               | 179032       | 2006\n",
       "Basic research   | $154,578  | State of California      | California Department of Social Services               | School of Social Welfare             | nan                                                         | 15959 | 021362-002       | Needell, Barbara          | 7/1/2006           | 9/30/2006        | Performance Indicators/California Children's Services Ar ... | Social Welfare                                              | 154578       | 2006\n",
       "Instruction      | $225,000  | State of California      | California Department of Social Services               | School of Social Welfare             | Social Welfare                                              | 15960 | 021363-002       | Midgley, James            | 7/1/2006           | 9/30/2006        | Title IV-E Social Work Training Program                      | Social Welfare                                              | 225000       | 2006\n",
       "Instruction      | $47,138   | State of California      | California Department of Social Services               | School of Social Welfare             | Social Welfare                                              | 15960 | 021363-002       | Midgley, James            | 7/1/2006           | 9/30/2006        | Title IV-E Social Work Training Program                      | Social Welfare                                              | 47138        | 2006\n",
       "Basic research   | $65,000   | Federal                  | NIH National Institutes of Health - Miscellaneous      | VC Res Other Research Units          | The California Institute for Quantitative Biosciences (QB3) | 78561 | 021425-002       | Keasling, Jay             | 7/1/2006           | 12/31/2006       | Model-Driven Strain Engineering for Isoprenoid Drug Prod ... | The California Institute for Quantitative Biosciences (QB3) | 65000        | 2006\n",
       "Other            | $30,937   | Not for Profit           | E.J. Slosson Endowment Fund                            | VC Research Museums & Field Stations | Botanical Garden                                            | 91478 | 020907-002       | Carmichael, A Christopher | 7/1/2006           | 6/30/2007        | UC Botanical Garden Interpretive Project                     | Botanical Garden                                            | 30937        | 2006\n",
       "Other            | $0        | Not for Profit           | E.J. Slosson Endowment Fund                            | VC Research Museums & Field Stations | Botanical Garden                                            | 91478 | 020907-002       | Carmichael, A Christopher | 7/1/2006           | 6/30/2007        | UC Botanical Garden Interpretive Project                     | Botanical Garden                                            | 0            | 2006\n",
       "Basic research   | $55,474   | Federal                  | NSF National Science Foundation                        | Division of Physical Sciences        | Berkeley Seismological Laboratory                           | 11089 | 021063-002       | Nadeau, Robert            | 7/1/2006           | 6/30/2007        | Seismic Indicators of Time-Varying Deep Deformation Alon ... | Berkeley Seismological Laboratory                           | 55474        | 2006\n",
       "Basic research   | $27,000   | Not for Profit           | California Walnut Board (Frmly Walnut Marketing Board) | CNR College of Natural Resources     | Environmental Science, Policy & Management                  | 78527 | 021120-002       | Welter, Stephen C         | 7/1/2006           | 6/30/2007        | Evaluation of Alternative Pheromone Dispensing Technologies  | Environmental Science, Policy & Management                  | 27000        | 2006\n",
       "Basic research   | $50,000   | University of California | UC Biotechnology Research and Education (BREP)         | Division of Physical Sciences        | Physics                                                     | nan   | 021264-002       | Liphardt, Jan T           | 7/1/2006           | 6/30/2007        | Model System to Study Translocation of Single Biopolymer ... | Physics                                                     | 50000        | 2006\n",
       "... (39812 rows omitted)"
      ]
     },
     "execution_count": 3,
     "metadata": {},
     "output_type": "execute_result"
    }
   ],
   "source": [
    "# Cleaning the initial data set\n",
    "\n",
    "def replace_empty_dept(department, division):\n",
    "    if department == 'nan':\n",
    "        dept_div = division\n",
    "    else:\n",
    "        dept_div = department\n",
    "    replace = ['School of ', 'DO NOT USE ', 'College of ', 'Department ']\n",
    "    for word in replace:\n",
    "        dept_div = dept_div.replace(word, '')\n",
    "    return dept_div\n",
    "\n",
    "def int_monetary_value(money_str):\n",
    "    money_str = money_str.replace('$', '').replace(' ', '').replace(',', '')\n",
    "    if '(' in money_str:\n",
    "        money_str = '-' + money_str.replace('(', '').replace(')', '')\n",
    "    return int(money_str)\n",
    "\n",
    "def extract_year(date):\n",
    "    return int(date[-4:])\n",
    "\n",
    "grant_data.append_column('Dept/Division', grant_data.apply(replace_empty_dept, ['Department', 'Division']))\n",
    "grant_data.append_column('Grant Amount', grant_data.apply(int_monetary_value, 'Amount'))\n",
    "grant_data.append_column('Year', grant_data.apply(extract_year, 'Project Begin Date'))\n",
    "\n",
    "grant_data"
   ]
  },
  {
   "cell_type": "code",
   "execution_count": 4,
   "metadata": {
    "collapsed": false
   },
   "outputs": [],
   "source": [
    "grant_data.sort('Grant Amount', descending=True).to_df().to_csv('cleaned_research_spo_data.csv', index=False)"
   ]
  },
  {
   "cell_type": "code",
   "execution_count": 5,
   "metadata": {
    "collapsed": false
   },
   "outputs": [
    {
     "data": {
      "text/html": [
       "<table border=\"1\" class=\"dataframe\">\n",
       "    <thead>\n",
       "        <tr>\n",
       "            <th>Dept/Division</th> <th>Activity Type list</th> <th>Sponsor Class list</th> <th>Year list</th> <th>Grant Amount</th>\n",
       "        </tr>\n",
       "    </thead>\n",
       "    <tbody>\n",
       "        <tr>\n",
       "            <td>ARE Agricultural & Resource Economics            </td> <td>['Basic research', 'Basic research', 'Basic research', ' ...</td> <td>['State of California', 'Federal', 'Federal', 'Federal', ...</td> <td>[2005, 2006, 2004, 2002, 2006, 2006, 2004, 2006, 2007, 2 ...</td> <td>5543973     </td>\n",
       "        </tr>\n",
       "    </tbody>\n",
       "        <tr>\n",
       "            <td>ARF Archaeological Research Facility             </td> <td>['Basic research', 'Basic research', 'Basic research', ' ...</td> <td>['Federal', 'University of California', 'Federal', 'Fede ...</td> <td>[2006, 2006, 2007, 2006, 2007, 2007, 2007, 2008, 2007, 2 ...</td> <td>1926295     </td>\n",
       "        </tr>\n",
       "    </tbody>\n",
       "        <tr>\n",
       "            <td>Academic Achievement Division                    </td> <td>['Other', 'Services', 'Services', 'Other', 'Training', ' ...</td> <td>['Federal', 'Federal', 'Federal', 'Federal', 'Federal',  ...</td> <td>[2007, 2010, 2010, 2007, 2012, 2010, 2012, 2010, 2010, 2015]</td> <td>8391223     </td>\n",
       "        </tr>\n",
       "    </tbody>\n",
       "        <tr>\n",
       "            <td>Anthropology                                     </td> <td>['Basic research', 'Basic research', 'Applied research', ...</td> <td>['University of California', 'Federal', 'Federal', 'Fede ...</td> <td>[2005, 2006, 2006, 2005, 2006, 2006, 2007, 2005, 2007, 2 ...</td> <td>1963652     </td>\n",
       "        </tr>\n",
       "    </tbody>\n",
       "        <tr>\n",
       "            <td>Architecture                                     </td> <td>['Other', 'Basic research', 'Basic research', 'Other', ' ...</td> <td>['State of California', 'Industry', 'University of Calif ...</td> <td>[2004, 2006, 2007, 2004, 2005, 2007, 2005, 2004, 2004, 2 ...</td> <td>202026      </td>\n",
       "        </tr>\n",
       "    </tbody>\n",
       "        <tr>\n",
       "            <td>Art History                                      </td> <td>['Basic research', 'Basic research', 'Basic research', ' ...</td> <td>['Not for Profit', 'Not for Profit', 'Not for Profit', ' ...</td> <td>[2007, 2007, 2007, 2008, 2008, 2008, 2009, 2008, 2012, 2 ...</td> <td>911662      </td>\n",
       "        </tr>\n",
       "    </tbody>\n",
       "        <tr>\n",
       "            <td>Art Mus & Pacific Film Archive                   </td> <td>['Other', 'Basic research', 'Other', 'Other', 'Other', ' ...</td> <td>['Federal', 'Federal', 'Not for Profit', 'Non Federal Go ...</td> <td>[2006, 2004, 2005, 2005, 2006, 2006, 2005, 2006, 2005, 2 ...</td> <td>5178877     </td>\n",
       "        </tr>\n",
       "    </tbody>\n",
       "        <tr>\n",
       "            <td>Art Practice                                     </td> <td>['Basic research', 'Basic research']                        </td> <td>['Not for Profit', 'Not for Profit']                        </td> <td>[2008, 2008]                                                </td> <td>238000      </td>\n",
       "        </tr>\n",
       "    </tbody>\n",
       "        <tr>\n",
       "            <td>Associate VC - Business & Administrative Services</td> <td>['Other', 'Other', 'Other']                                 </td> <td>['Non Federal Governmental', 'Non Federal Governmental', ...</td> <td>[2004, 2005, 2005]                                          </td> <td>0           </td>\n",
       "        </tr>\n",
       "    </tbody>\n",
       "        <tr>\n",
       "            <td>Associate VC - Health & Human Services           </td> <td>['Other', 'Basic research', 'Other', 'Other', 'Other', ' ...</td> <td>['Non Federal Governmental', 'Federal', 'Not for Profit' ...</td> <td>[2005, 2006, 2006, 2006, 2005, 2001, 2005, 2003, 2006, 2 ...</td> <td>4050302     </td>\n",
       "        </tr>\n",
       "    </tbody>\n",
       "</table>\n",
       "<p>... (217 rows omitted)</p"
      ],
      "text/plain": [
       "Dept/Division                                     | Activity Type list                                           | Sponsor Class list                                           | Year list                                                    | Grant Amount\n",
       "ARE Agricultural & Resource Economics             | ['Basic research', 'Basic research', 'Basic research', ' ... | ['State of California', 'Federal', 'Federal', 'Federal', ... | [2005, 2006, 2004, 2002, 2006, 2006, 2004, 2006, 2007, 2 ... | 5543973\n",
       "ARF Archaeological Research Facility              | ['Basic research', 'Basic research', 'Basic research', ' ... | ['Federal', 'University of California', 'Federal', 'Fede ... | [2006, 2006, 2007, 2006, 2007, 2007, 2007, 2008, 2007, 2 ... | 1926295\n",
       "Academic Achievement Division                     | ['Other', 'Services', 'Services', 'Other', 'Training', ' ... | ['Federal', 'Federal', 'Federal', 'Federal', 'Federal',  ... | [2007, 2010, 2010, 2007, 2012, 2010, 2012, 2010, 2010, 2015] | 8391223\n",
       "Anthropology                                      | ['Basic research', 'Basic research', 'Applied research', ... | ['University of California', 'Federal', 'Federal', 'Fede ... | [2005, 2006, 2006, 2005, 2006, 2006, 2007, 2005, 2007, 2 ... | 1963652\n",
       "Architecture                                      | ['Other', 'Basic research', 'Basic research', 'Other', ' ... | ['State of California', 'Industry', 'University of Calif ... | [2004, 2006, 2007, 2004, 2005, 2007, 2005, 2004, 2004, 2 ... | 202026\n",
       "Art History                                       | ['Basic research', 'Basic research', 'Basic research', ' ... | ['Not for Profit', 'Not for Profit', 'Not for Profit', ' ... | [2007, 2007, 2007, 2008, 2008, 2008, 2009, 2008, 2012, 2 ... | 911662\n",
       "Art Mus & Pacific Film Archive                    | ['Other', 'Basic research', 'Other', 'Other', 'Other', ' ... | ['Federal', 'Federal', 'Not for Profit', 'Non Federal Go ... | [2006, 2004, 2005, 2005, 2006, 2006, 2005, 2006, 2005, 2 ... | 5178877\n",
       "Art Practice                                      | ['Basic research', 'Basic research']                         | ['Not for Profit', 'Not for Profit']                         | [2008, 2008]                                                 | 238000\n",
       "Associate VC - Business & Administrative Services | ['Other', 'Other', 'Other']                                  | ['Non Federal Governmental', 'Non Federal Governmental', ... | [2004, 2005, 2005]                                           | 0\n",
       "Associate VC - Health & Human Services            | ['Other', 'Basic research', 'Other', 'Other', 'Other', ' ... | ['Non Federal Governmental', 'Federal', 'Not for Profit' ... | [2005, 2006, 2006, 2006, 2005, 2001, 2005, 2003, 2006, 2 ... | 4050302\n",
       "... (217 rows omitted)"
      ]
     },
     "execution_count": 5,
     "metadata": {},
     "output_type": "execute_result"
    }
   ],
   "source": [
    "# Analyzing by Department\n",
    "\n",
    "by_dept = grant_data.select([0, 2, 'Dept/Division', 'Grant Amount', 'Year']).group('Dept/Division', list)\n",
    "by_dept.append_column('Grant Amount', by_dept.apply(sum, 'Grant Amount list'))\n",
    "by_dept = by_dept.drop('Grant Amount list')\n",
    "by_dept"
   ]
  },
  {
   "cell_type": "code",
   "execution_count": 6,
   "metadata": {
    "collapsed": false
   },
   "outputs": [],
   "source": [
    "# Reformatting currency\n",
    "\n",
    "def format_currency(grant):\n",
    "    return '${:,}'.format(grant)\n",
    "\n",
    "def format_money_table(table):\n",
    "    table = table.sort('Grant Amount', descending=True)\n",
    "    table.append_column('Grant Amount', table.apply(format_currency, 'Grant Amount'))\n",
    "    return table"
   ]
  },
  {
   "cell_type": "code",
   "execution_count": 7,
   "metadata": {
    "collapsed": false,
    "scrolled": true
   },
   "outputs": [],
   "source": [
    "# Exploring sources of funding for the top grant recipients\n",
    "\n",
    "def sponsor_counts(sponsor_list):\n",
    "    count_list = [sponsor_list.count('Federal'), sponsor_list.count('State of California'), sponsor_list.count('Not for Profit'),\\\n",
    "            sponsor_list.count('University of California')]\n",
    "    count_list.append(len(sponsor_list) - sum(count_list))\n",
    "    return count_list\n",
    "\n",
    "counts = Table(['Federal', 'State of California', 'Non Profit', 'University of California', 'Other']).with_rows(\n",
    "                    by_dept.apply(sponsor_counts, 'Sponsor Class list'))\n",
    "\n",
    "by_dept_funding = by_dept.drop([1,2,3]).with_columns(['Federal', counts[0],\n",
    "                                                      'State of California', counts[1],\n",
    "                                                      'Non Profit', counts[2],\n",
    "                                                      'University of California', counts[3],\n",
    "                                                      'Other', counts[4]])\n",
    "\n",
    "by_dept_funding = format_money_table(by_dept_funding)\n",
    "by_dept_funding\n",
    "\n",
    "by_dept_funding.to_csv('by_dept_funding.csv')"
   ]
  },
  {
   "cell_type": "code",
   "execution_count": 8,
   "metadata": {
    "collapsed": false
   },
   "outputs": [],
   "source": [
    "# Exploring what kind of research is taking place for each grant recipient\n",
    "def activity_counts(activity_list):\n",
    "    count_list = [activity_list.count('Applied research'), activity_list.count('Basic research'), activity_list.count('Training'), \\\n",
    "                  activity_list.count('Instruction'), activity_list.count('Services'), activity_list.count('Other')]\n",
    "    count_list[5] += len(activity_list) - sum(count_list)\n",
    "    return count_list\n",
    "\n",
    "counts = Table(['Applied research', 'Basic research', 'Training', 'Instruction', 'Services', 'Other']).with_rows(\n",
    "                    by_dept.apply(activity_counts, 'Activity Type list'))\n",
    "\n",
    "by_dept_activity = by_dept.drop([1,2,3]).with_columns(['Applied Research', counts[0],\n",
    "                                                      'Basic Research', counts[1],\n",
    "                                                      'Training', counts[2],\n",
    "                                                      'Instruction', counts[3],\n",
    "                                                      'Services', counts[4],\n",
    "                                                      'Other', counts[5]])\n",
    "total = counts[0]\n",
    "for i in np.arange(1, 6):\n",
    "    total += counts[i]\n",
    "\n",
    "by_dept_activity = by_dept_activity.with_column('Total', total)\n",
    "by_dept_activity = format_money_table(by_dept_activity)\n",
    "by_dept_activity\n",
    "\n",
    "by_dept_activity.to_csv('by_dept_activity.csv')"
   ]
  },
  {
   "cell_type": "markdown",
   "metadata": {
    "collapsed": true
   },
   "source": [
    "### Interactive Data Exploration\n",
    "\n",
    "- How much have different sources invested in research and how much are they emphasizing it?\n",
    "- Which departments are most involved in heavily funded research? "
   ]
  },
  {
   "cell_type": "code",
   "execution_count": 9,
   "metadata": {
    "collapsed": true
   },
   "outputs": [],
   "source": [
    "from ipywidgets import interact, interactive, fixed\n",
    "import ipywidgets as widgets"
   ]
  },
  {
   "cell_type": "code",
   "execution_count": 10,
   "metadata": {
    "collapsed": false
   },
   "outputs": [],
   "source": [
    "def year(table, yr, show_all_entries):\n",
    "    table = table.where('Year', yr)\n",
    "    if show_all_entries:\n",
    "        table.show()\n",
    "        return\n",
    "    return table\n",
    "\n",
    "def department(table, dept, show_all_entries):\n",
    "    table = table.where('Dept/Division', dept)\n",
    "    if show_all_entries:\n",
    "        table.show()\n",
    "        return\n",
    "    return table\n",
    "\n",
    "def amount(table, threshold_amount, show_all_entries):\n",
    "    table = table.where(table['Grant Amount'] > threshold_amount).sort('Grant Amount', descending=True)\n",
    "    if show_all_entries:\n",
    "        table.show()\n",
    "        return\n",
    "    return table\n",
    "\n",
    "trends = grant_data.drop([1] + list(range(4, 11)))"
   ]
  },
  {
   "cell_type": "code",
   "execution_count": 13,
   "metadata": {
    "collapsed": false
   },
   "outputs": [
    {
     "data": {
      "text/html": [
       "<table border=\"1\" class=\"dataframe\">\n",
       "    <thead>\n",
       "        <tr>\n",
       "            <th>Activity Type</th> <th>Sponsor Class</th> <th>Sponsor</th> <th>Title</th> <th>Dept/Division</th> <th>Grant Amount</th> <th>Year</th>\n",
       "        </tr>\n",
       "    </thead>\n",
       "    <tbody>\n",
       "        <tr>\n",
       "            <td>Basic research  </td> <td>Not for Profit          </td> <td>Urban Creeks Council of California                          </td> <td>An Investigation of the Potential of Eucalyptus Wood as  ...</td> <td>Geography                                                  </td> <td>0           </td> <td>2005</td>\n",
       "        </tr>\n",
       "    </tbody>\n",
       "        <tr>\n",
       "            <td>Basic research  </td> <td>Federal                 </td> <td>NSF National Science Foundation                             </td> <td>Collaborative Research:  Ice and Rock Processes in Cirques  </td> <td>Geography                                                  </td> <td>0           </td> <td>2005</td>\n",
       "        </tr>\n",
       "    </tbody>\n",
       "        <tr>\n",
       "            <td>Basic research  </td> <td>Federal                 </td> <td>NIH National Institute of General Medical Sciences          </td> <td>Heme Protein Sensors in Prokaryotes                         </td> <td>The California Institute for Quantitative Biosciences (QB3)</td> <td>110016      </td> <td>2005</td>\n",
       "        </tr>\n",
       "    </tbody>\n",
       "        <tr>\n",
       "            <td>Applied research</td> <td>State of California     </td> <td>California Department of Industrial Relations               </td> <td>Impact of the New California Permanent Disability Rating ...</td> <td>ISSI Institute for the Study of Societal Issues            </td> <td>0           </td> <td>2005</td>\n",
       "        </tr>\n",
       "    </tbody>\n",
       "        <tr>\n",
       "            <td>Applied research</td> <td>Not for Profit          </td> <td>Shell Foundation                                            </td> <td>Promotion of Technology Innovation and Dissemination for ...</td> <td>Public Health                                              </td> <td>41215       </td> <td>2005</td>\n",
       "        </tr>\n",
       "    </tbody>\n",
       "        <tr>\n",
       "            <td>Other           </td> <td>Not for Profit          </td> <td>National Film Preservation Foundation                       </td> <td>Preservation of Films by Dion Vigne and Edward Silversto ...</td> <td>Art Mus & Pacific Film Archive                             </td> <td>0           </td> <td>2005</td>\n",
       "        </tr>\n",
       "    </tbody>\n",
       "        <tr>\n",
       "            <td>Basic research  </td> <td>Federal                 </td> <td>USDI Geological Survey                                      </td> <td>Heat Flux Modeling for the Sacramento-San Joaquin Delta     </td> <td>Civil & Environmental Engineering                          </td> <td>-166        </td> <td>2005</td>\n",
       "        </tr>\n",
       "    </tbody>\n",
       "        <tr>\n",
       "            <td>Basic research  </td> <td>Industry                </td> <td>Fanuc Ltd                                                   </td> <td>Intelligent Control of Robot Manipulator for Performance ...</td> <td>ERSO Engineering Research Support Organization             </td> <td>161488      </td> <td>2005</td>\n",
       "        </tr>\n",
       "    </tbody>\n",
       "        <tr>\n",
       "            <td>Basic research  </td> <td>University of California</td> <td>UC California HIV/AIDS Research Program                     </td> <td>HIV Risk Research and Homeless Sexual Minority Youth        </td> <td>Anthropology                                               </td> <td>0           </td> <td>2005</td>\n",
       "        </tr>\n",
       "    </tbody>\n",
       "        <tr>\n",
       "            <td>Basic research  </td> <td>Federal                 </td> <td>NASA National Aeronautics and Space Administration Godda ...</td> <td>Assessing and Implementing High Reliability at NASA Thro ...</td> <td>IBER Institute of Business & Economic Research             </td> <td>0           </td> <td>2005</td>\n",
       "        </tr>\n",
       "    </tbody>\n",
       "</table>\n",
       "<p>... (2038 rows omitted)</p"
      ],
      "text/plain": [
       "Activity Type    | Sponsor Class            | Sponsor                                                      | Title                                                        | Dept/Division                                               | Grant Amount | Year\n",
       "Basic research   | Not for Profit           | Urban Creeks Council of California                           | An Investigation of the Potential of Eucalyptus Wood as  ... | Geography                                                   | 0            | 2005\n",
       "Basic research   | Federal                  | NSF National Science Foundation                              | Collaborative Research:  Ice and Rock Processes in Cirques   | Geography                                                   | 0            | 2005\n",
       "Basic research   | Federal                  | NIH National Institute of General Medical Sciences           | Heme Protein Sensors in Prokaryotes                          | The California Institute for Quantitative Biosciences (QB3) | 110016       | 2005\n",
       "Applied research | State of California      | California Department of Industrial Relations                | Impact of the New California Permanent Disability Rating ... | ISSI Institute for the Study of Societal Issues             | 0            | 2005\n",
       "Applied research | Not for Profit           | Shell Foundation                                             | Promotion of Technology Innovation and Dissemination for ... | Public Health                                               | 41215        | 2005\n",
       "Other            | Not for Profit           | National Film Preservation Foundation                        | Preservation of Films by Dion Vigne and Edward Silversto ... | Art Mus & Pacific Film Archive                              | 0            | 2005\n",
       "Basic research   | Federal                  | USDI Geological Survey                                       | Heat Flux Modeling for the Sacramento-San Joaquin Delta      | Civil & Environmental Engineering                           | -166         | 2005\n",
       "Basic research   | Industry                 | Fanuc Ltd                                                    | Intelligent Control of Robot Manipulator for Performance ... | ERSO Engineering Research Support Organization              | 161488       | 2005\n",
       "Basic research   | University of California | UC California HIV/AIDS Research Program                      | HIV Risk Research and Homeless Sexual Minority Youth         | Anthropology                                                | 0            | 2005\n",
       "Basic research   | Federal                  | NASA National Aeronautics and Space Administration Godda ... | Assessing and Implementing High Reliability at NASA Thro ... | IBER Institute of Business & Economic Research              | 0            | 2005\n",
       "... (2038 rows omitted)"
      ]
     },
     "metadata": {},
     "output_type": "display_data"
    },
    {
     "data": {
      "text/plain": [
       "<function __main__.year>"
      ]
     },
     "execution_count": 13,
     "metadata": {},
     "output_type": "execute_result"
    }
   ],
   "source": [
    "interact(year, table=fixed(trends), yr=widgets.IntSlider(min=1997,max=2016,step=1,value=2005), show_all_entries=False)"
   ]
  },
  {
   "cell_type": "code",
   "execution_count": 14,
   "metadata": {
    "collapsed": false
   },
   "outputs": [
    {
     "data": {
      "text/html": [
       "<table border=\"1\" class=\"dataframe\">\n",
       "    <thead>\n",
       "        <tr>\n",
       "            <th>Activity Type</th> <th>Sponsor Class</th> <th>Sponsor</th> <th>Title</th> <th>Dept/Division</th> <th>Grant Amount</th> <th>Year</th>\n",
       "        </tr>\n",
       "    </thead>\n",
       "    <tbody>\n",
       "        <tr>\n",
       "            <td>Other        </td> <td>Not for Profit</td> <td>Walter & Elise Haas Fund</td> <td>Richmond/Berkeley Project </td> <td>Consortium of the Arts</td> <td>35000       </td> <td>2006</td>\n",
       "        </tr>\n",
       "    </tbody>\n",
       "        <tr>\n",
       "            <td>Other        </td> <td>Not for Profit</td> <td>Walter & Elise Haas Fund</td> <td>Richmond/Berkeley Project </td> <td>Consortium of the Arts</td> <td>25000       </td> <td>2006</td>\n",
       "        </tr>\n",
       "    </tbody>\n",
       "</table>"
      ],
      "text/plain": [
       "Activity Type | Sponsor Class  | Sponsor                  | Title                      | Dept/Division          | Grant Amount | Year\n",
       "Other         | Not for Profit | Walter & Elise Haas Fund | Richmond/Berkeley Project  | Consortium of the Arts | 35000        | 2006\n",
       "Other         | Not for Profit | Walter & Elise Haas Fund | Richmond/Berkeley Project  | Consortium of the Arts | 25000        | 2006"
      ]
     },
     "metadata": {},
     "output_type": "display_data"
    },
    {
     "data": {
      "text/plain": [
       "<function __main__.department>"
      ]
     },
     "execution_count": 14,
     "metadata": {},
     "output_type": "execute_result"
    }
   ],
   "source": [
    "interact(department, table=fixed(trends), dept=list(set(trends['Dept/Division'])), show_all_entries=False)"
   ]
  },
  {
   "cell_type": "code",
   "execution_count": 13,
   "metadata": {
    "collapsed": false
   },
   "outputs": [
    {
     "data": {
      "text/html": [
       "<table border=\"1\" class=\"dataframe\">\n",
       "    <thead>\n",
       "        <tr>\n",
       "            <th>Activity Type</th> <th>Sponsor Class</th> <th>Sponsor</th> <th>Title</th> <th>Dept/Division</th> <th>Grant Amount</th> <th>Year</th>\n",
       "        </tr>\n",
       "    </thead>\n",
       "    <tbody>\n",
       "        <tr>\n",
       "            <td>Basic research</td> <td>Industry      </td> <td>BP Group (BP America, BP Exploration, British Petroleum)    </td> <td>Energy Biosciences Institute                         </td> <td>Vice Chancellor for Research ORUs           </td> <td>346371180   </td> <td>2007</td>\n",
       "        </tr>\n",
       "    </tbody>\n",
       "        <tr>\n",
       "            <td>Basic research</td> <td>Federal       </td> <td>NASA National Aeronautics and Space Administration Godda ...</td> <td>The Ionospheric CONnection Explorer (ICON) Phases B-F</td> <td>SSL Space Sciences Lab                      </td> <td>132635047   </td> <td>2012</td>\n",
       "        </tr>\n",
       "    </tbody>\n",
       "        <tr>\n",
       "            <td>Basic research</td> <td>Not for Profit</td> <td>Simons Foundation                                           </td> <td>Simons Institute for the Theory of Computing         </td> <td>Simons Institute for the Theory of Computing</td> <td>59640000    </td> <td>2012</td>\n",
       "        </tr>\n",
       "    </tbody>\n",
       "</table>"
      ],
      "text/plain": [
       "Activity Type  | Sponsor Class  | Sponsor                                                      | Title                                                 | Dept/Division                                | Grant Amount | Year\n",
       "Basic research | Industry       | BP Group (BP America, BP Exploration, British Petroleum)     | Energy Biosciences Institute                          | Vice Chancellor for Research ORUs            | 346371180    | 2007\n",
       "Basic research | Federal        | NASA National Aeronautics and Space Administration Godda ... | The Ionospheric CONnection Explorer (ICON) Phases B-F | SSL Space Sciences Lab                       | 132635047    | 2012\n",
       "Basic research | Not for Profit | Simons Foundation                                            | Simons Institute for the Theory of Computing          | Simons Institute for the Theory of Computing | 59640000     | 2012"
      ]
     },
     "metadata": {},
     "output_type": "display_data"
    }
   ],
   "source": [
    "interact(amount, table=fixed(trends), \\\n",
    "         threshold_amount=widgets.IntSlider(min=0,max=max(trends['Grant Amount'])-1,step=10000, value=0), show_all_entries=False)"
   ]
  },
  {
   "cell_type": "code",
   "execution_count": 14,
   "metadata": {
    "collapsed": false,
    "scrolled": false
   },
   "outputs": [
    {
     "data": {
      "text/html": [
       "<table border=\"1\" class=\"dataframe\">\n",
       "    <thead>\n",
       "        <tr>\n",
       "            <th>Activity Type</th> <th>Sponsor Class</th> <th>Sponsor</th> <th>Title</th> <th>Dept/Division</th> <th>Grant Amount</th> <th>Year</th> <th>Grant Ranking</th>\n",
       "        </tr>\n",
       "    </thead>\n",
       "    <tbody>\n",
       "        <tr>\n",
       "            <td>Basic research</td> <td>Industry           </td> <td>BP Group (BP America, BP Exploration, British Petroleum)    </td> <td>Energy Biosciences Institute                                </td> <td>Vice Chancellor for Research ORUs                      </td> <td>346371180   </td> <td>2007</td> <td>1            </td>\n",
       "        </tr>\n",
       "    </tbody>\n",
       "        <tr>\n",
       "            <td>Basic research</td> <td>Federal            </td> <td>NASA National Aeronautics and Space Administration Godda ...</td> <td>The Ionospheric CONnection Explorer (ICON) Phases B-F       </td> <td>SSL Space Sciences Lab                                 </td> <td>132635047   </td> <td>2012</td> <td>2            </td>\n",
       "        </tr>\n",
       "    </tbody>\n",
       "        <tr>\n",
       "            <td>Basic research</td> <td>Not for Profit     </td> <td>Simons Foundation                                           </td> <td>Simons Institute for the Theory of Computing                </td> <td>Simons Institute for the Theory of Computing           </td> <td>59640000    </td> <td>2012</td> <td>3            </td>\n",
       "        </tr>\n",
       "    </tbody>\n",
       "        <tr>\n",
       "            <td>Instruction   </td> <td>State of California</td> <td>California Department of Social Services                    </td> <td>Title IV-E Social Work Training Program                     </td> <td>Social Welfare                                         </td> <td>32745069    </td> <td>2010</td> <td>4            </td>\n",
       "        </tr>\n",
       "    </tbody>\n",
       "        <tr>\n",
       "            <td>Instruction   </td> <td>State of California</td> <td>California Department of Social Services                    </td> <td>Title IV-E Social Work Training Program                     </td> <td>Social Welfare                                         </td> <td>32587458    </td> <td>2012</td> <td>5            </td>\n",
       "        </tr>\n",
       "    </tbody>\n",
       "        <tr>\n",
       "            <td>Instruction   </td> <td>State of California</td> <td>California Department of Social Services                    </td> <td>Title IV-E Social Work Training Progam                      </td> <td>Social Welfare                                         </td> <td>32463656    </td> <td>2011</td> <td>6            </td>\n",
       "        </tr>\n",
       "    </tbody>\n",
       "        <tr>\n",
       "            <td>Instruction   </td> <td>State of California</td> <td>California Department of Social Services                    </td> <td>Title IV-E Social Work Training Program                     </td> <td>Social Welfare                                         </td> <td>30752572    </td> <td>2009</td> <td>7            </td>\n",
       "        </tr>\n",
       "    </tbody>\n",
       "        <tr>\n",
       "            <td>Basic research</td> <td>Federal            </td> <td>NSF National Science Foundation                             </td> <td>Developing the Preliminary Design for the Deep Undergrou ...</td> <td>DUSEL Deep Underground Science & Engineering Laboratory</td> <td>29092000    </td> <td>2009</td> <td>8            </td>\n",
       "        </tr>\n",
       "    </tbody>\n",
       "        <tr>\n",
       "            <td>Instruction   </td> <td>State of California</td> <td>California Department of Social Services                    </td> <td>Title IVE Social Work Training Program                      </td> <td>Social Welfare                                         </td> <td>28986867    </td> <td>2008</td> <td>9            </td>\n",
       "        </tr>\n",
       "    </tbody>\n",
       "        <tr>\n",
       "            <td>Basic research</td> <td>Not for Profit     </td> <td>MARCO Microelectronics Advanced Research Corporation        </td> <td>The TerraSwarm Research Center                              </td> <td>ERSO Engineering Research Support Organization         </td> <td>27573125    </td> <td>2013</td> <td>10           </td>\n",
       "        </tr>\n",
       "    </tbody>\n",
       "</table>\n",
       "<p>... (90 rows omitted)</p"
      ],
      "text/plain": [
       "Activity Type  | Sponsor Class       | Sponsor                                                      | Title                                                        | Dept/Division                                           | Grant Amount | Year | Grant Ranking\n",
       "Basic research | Industry            | BP Group (BP America, BP Exploration, British Petroleum)     | Energy Biosciences Institute                                 | Vice Chancellor for Research ORUs                       | 346371180    | 2007 | 1\n",
       "Basic research | Federal             | NASA National Aeronautics and Space Administration Godda ... | The Ionospheric CONnection Explorer (ICON) Phases B-F        | SSL Space Sciences Lab                                  | 132635047    | 2012 | 2\n",
       "Basic research | Not for Profit      | Simons Foundation                                            | Simons Institute for the Theory of Computing                 | Simons Institute for the Theory of Computing            | 59640000     | 2012 | 3\n",
       "Instruction    | State of California | California Department of Social Services                     | Title IV-E Social Work Training Program                      | Social Welfare                                          | 32745069     | 2010 | 4\n",
       "Instruction    | State of California | California Department of Social Services                     | Title IV-E Social Work Training Program                      | Social Welfare                                          | 32587458     | 2012 | 5\n",
       "Instruction    | State of California | California Department of Social Services                     | Title IV-E Social Work Training Progam                       | Social Welfare                                          | 32463656     | 2011 | 6\n",
       "Instruction    | State of California | California Department of Social Services                     | Title IV-E Social Work Training Program                      | Social Welfare                                          | 30752572     | 2009 | 7\n",
       "Basic research | Federal             | NSF National Science Foundation                              | Developing the Preliminary Design for the Deep Undergrou ... | DUSEL Deep Underground Science & Engineering Laboratory | 29092000     | 2009 | 8\n",
       "Instruction    | State of California | California Department of Social Services                     | Title IVE Social Work Training Program                       | Social Welfare                                          | 28986867     | 2008 | 9\n",
       "Basic research | Not for Profit      | MARCO Microelectronics Advanced Research Corporation         | The TerraSwarm Research Center                               | ERSO Engineering Research Support Organization          | 27573125     | 2013 | 10\n",
       "... (90 rows omitted)"
      ]
     },
     "execution_count": 14,
     "metadata": {},
     "output_type": "execute_result"
    }
   ],
   "source": [
    "top_100_grants = trends.sort('Grant Amount', descending=True).take(range(0,100))\n",
    "top_100_grants = top_100_grants.with_column('Grant Ranking', np.arange(1, 101))\n",
    "top_100_grants"
   ]
  }
 ],
 "metadata": {
  "kernelspec": {
   "display_name": "Python 3",
   "language": "python",
   "name": "python3"
  },
  "language_info": {
   "codemirror_mode": {
    "name": "ipython",
    "version": 3
   },
   "file_extension": ".py",
   "mimetype": "text/x-python",
   "name": "python",
   "nbconvert_exporter": "python",
   "pygments_lexer": "ipython3",
   "version": "3.5.1"
  }
 },
 "nbformat": 4,
 "nbformat_minor": 0
}
