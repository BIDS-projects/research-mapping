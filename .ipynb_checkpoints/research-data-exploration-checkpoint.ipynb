{
 "cells": [
  {
   "cell_type": "markdown",
   "metadata": {},
   "source": [
    "### Initial Analysis of Data Set\n",
    "\n",
    "- Which departments get the most funding? \n",
    "- What type of research do they conduct? \n",
    "- Where is the money coming from, by department?"
   ]
  },
  {
   "cell_type": "code",
   "execution_count": 1,
   "metadata": {
    "collapsed": false
   },
   "outputs": [],
   "source": [
    "import matplotlib\n",
    "%matplotlib inline\n",
    "import matplotlib.pyplot as plt\n",
    "plt.style.use('fivethirtyeight')\n",
    "\n",
    "from datascience import *\n",
    "import numpy as np\n",
    "\n",
    "import locale\n",
    "import re\n",
    "import csv"
   ]
  },
  {
   "cell_type": "code",
   "execution_count": 2,
   "metadata": {
    "collapsed": false
   },
   "outputs": [],
   "source": [
    "grant_data = Table.read_table('grant_data.csv')"
   ]
  },
  {
   "cell_type": "code",
   "execution_count": 3,
   "metadata": {
    "collapsed": false
   },
   "outputs": [
    {
     "data": {
      "text/html": [
       "<table border=\"1\" class=\"dataframe\">\n",
       "    <thead>\n",
       "        <tr>\n",
       "            <th>Activity Type</th> <th>Amount</th> <th>Sponsor Class</th> <th>Sponsor</th> <th>Division</th> <th>Department</th> <th>Fund</th> <th>UCB Award Number</th> <th>PI Name</th> <th>Project Begin Date</th> <th>Project End Date</th> <th>Title</th> <th>Dept/Division</th> <th>Grant Amount</th> <th>Year</th>\n",
       "        </tr>\n",
       "    </thead>\n",
       "    <tbody>\n",
       "        <tr>\n",
       "            <td>Applied research</td> <td>$179,032 </td> <td>State of California     </td> <td>California Department of Health Care Services         </td> <td>School of Public Health             </td> <td>nan                                                        </td> <td>15952</td> <td>021331-002      </td> <td>Colford Jr, John M       </td> <td>7/1/2006          </td> <td>9/30/2006       </td> <td>DNS AIDS Training                                           </td> <td>Public Health                                              </td> <td>179032      </td> <td>2006</td>\n",
       "        </tr>\n",
       "    </tbody>\n",
       "        <tr>\n",
       "            <td>Basic research  </td> <td>$154,578 </td> <td>State of California     </td> <td>California Department of Social Services              </td> <td>School of Social Welfare            </td> <td>nan                                                        </td> <td>15959</td> <td>021362-002      </td> <td>Needell, Barbara         </td> <td>7/1/2006          </td> <td>9/30/2006       </td> <td>Performance Indicators/California Children's Services Ar ...</td> <td>Social Welfare                                             </td> <td>154578      </td> <td>2006</td>\n",
       "        </tr>\n",
       "    </tbody>\n",
       "        <tr>\n",
       "            <td>Instruction     </td> <td>$225,000 </td> <td>State of California     </td> <td>California Department of Social Services              </td> <td>School of Social Welfare            </td> <td>Social Welfare                                             </td> <td>15960</td> <td>021363-002      </td> <td>Midgley, James           </td> <td>7/1/2006          </td> <td>9/30/2006       </td> <td>Title IV-E Social Work Training Program                     </td> <td>Social Welfare                                             </td> <td>225000      </td> <td>2006</td>\n",
       "        </tr>\n",
       "    </tbody>\n",
       "        <tr>\n",
       "            <td>Instruction     </td> <td>$47,138  </td> <td>State of California     </td> <td>California Department of Social Services              </td> <td>School of Social Welfare            </td> <td>Social Welfare                                             </td> <td>15960</td> <td>021363-002      </td> <td>Midgley, James           </td> <td>7/1/2006          </td> <td>9/30/2006       </td> <td>Title IV-E Social Work Training Program                     </td> <td>Social Welfare                                             </td> <td>47138       </td> <td>2006</td>\n",
       "        </tr>\n",
       "    </tbody>\n",
       "        <tr>\n",
       "            <td>Basic research  </td> <td>$65,000  </td> <td>Federal                 </td> <td>NIH National Institutes of Health - Miscellaneous     </td> <td>VC Res Other Research Units         </td> <td>The California Institute for Quantitative Biosciences (QB3)</td> <td>78561</td> <td>021425-002      </td> <td>Keasling, Jay            </td> <td>7/1/2006          </td> <td>12/31/2006      </td> <td>Model-Driven Strain Engineering for Isoprenoid Drug Prod ...</td> <td>The California Institute for Quantitative Biosciences (QB3)</td> <td>65000       </td> <td>2006</td>\n",
       "        </tr>\n",
       "    </tbody>\n",
       "        <tr>\n",
       "            <td>Other           </td> <td>$30,937  </td> <td>Not for Profit          </td> <td>E.J. Slosson Endowment Fund                           </td> <td>VC Research Museums & Field Stations</td> <td>Botanical Garden                                           </td> <td>91478</td> <td>020907-002      </td> <td>Carmichael, A Christopher</td> <td>7/1/2006          </td> <td>6/30/2007       </td> <td>UC Botanical Garden Interpretive Project                    </td> <td>Botanical Garden                                           </td> <td>30937       </td> <td>2006</td>\n",
       "        </tr>\n",
       "    </tbody>\n",
       "        <tr>\n",
       "            <td>Other           </td> <td>$0       </td> <td>Not for Profit          </td> <td>E.J. Slosson Endowment Fund                           </td> <td>VC Research Museums & Field Stations</td> <td>Botanical Garden                                           </td> <td>91478</td> <td>020907-002      </td> <td>Carmichael, A Christopher</td> <td>7/1/2006          </td> <td>6/30/2007       </td> <td>UC Botanical Garden Interpretive Project                    </td> <td>Botanical Garden                                           </td> <td>0           </td> <td>2006</td>\n",
       "        </tr>\n",
       "    </tbody>\n",
       "        <tr>\n",
       "            <td>Basic research  </td> <td>$55,474  </td> <td>Federal                 </td> <td>NSF National Science Foundation                       </td> <td>Division of Physical Sciences       </td> <td>Berkeley Seismological Laboratory                          </td> <td>11089</td> <td>021063-002      </td> <td>Nadeau, Robert           </td> <td>7/1/2006          </td> <td>6/30/2007       </td> <td>Seismic Indicators of Time-Varying Deep Deformation Alon ...</td> <td>Berkeley Seismological Laboratory                          </td> <td>55474       </td> <td>2006</td>\n",
       "        </tr>\n",
       "    </tbody>\n",
       "        <tr>\n",
       "            <td>Basic research  </td> <td>$27,000  </td> <td>Not for Profit          </td> <td>California Walnut Board (Frmly Walnut Marketing Board)</td> <td>CNR College of Natural Resources    </td> <td>Environmental Science, Policy & Management                 </td> <td>78527</td> <td>021120-002      </td> <td>Welter, Stephen C        </td> <td>7/1/2006          </td> <td>6/30/2007       </td> <td>Evaluation of Alternative Pheromone Dispensing Technologies </td> <td>Environmental Science, Policy & Management                 </td> <td>27000       </td> <td>2006</td>\n",
       "        </tr>\n",
       "    </tbody>\n",
       "        <tr>\n",
       "            <td>Basic research  </td> <td>$50,000  </td> <td>University of California</td> <td>UC Biotechnology Research and Education (BREP)        </td> <td>Division of Physical Sciences       </td> <td>Physics                                                    </td> <td>nan  </td> <td>021264-002      </td> <td>Liphardt, Jan T          </td> <td>7/1/2006          </td> <td>6/30/2007       </td> <td>Model System to Study Translocation of Single Biopolymer ...</td> <td>Physics                                                    </td> <td>50000       </td> <td>2006</td>\n",
       "        </tr>\n",
       "    </tbody>\n",
       "</table>\n",
       "<p>... (39812 rows omitted)</p"
      ],
      "text/plain": [
       "Activity Type    | Amount    | Sponsor Class            | Sponsor                                                | Division                             | Department                                                  | Fund  | UCB Award Number | PI Name                   | Project Begin Date | Project End Date | Title                                                        | Dept/Division                                               | Grant Amount | Year\n",
       "Applied research | $179,032  | State of California      | California Department of Health Care Services          | School of Public Health              | nan                                                         | 15952 | 021331-002       | Colford Jr, John M        | 7/1/2006           | 9/30/2006        | DNS AIDS Training                                            | Public Health                                               | 179032       | 2006\n",
       "Basic research   | $154,578  | State of California      | California Department of Social Services               | School of Social Welfare             | nan                                                         | 15959 | 021362-002       | Needell, Barbara          | 7/1/2006           | 9/30/2006        | Performance Indicators/California Children's Services Ar ... | Social Welfare                                              | 154578       | 2006\n",
       "Instruction      | $225,000  | State of California      | California Department of Social Services               | School of Social Welfare             | Social Welfare                                              | 15960 | 021363-002       | Midgley, James            | 7/1/2006           | 9/30/2006        | Title IV-E Social Work Training Program                      | Social Welfare                                              | 225000       | 2006\n",
       "Instruction      | $47,138   | State of California      | California Department of Social Services               | School of Social Welfare             | Social Welfare                                              | 15960 | 021363-002       | Midgley, James            | 7/1/2006           | 9/30/2006        | Title IV-E Social Work Training Program                      | Social Welfare                                              | 47138        | 2006\n",
       "Basic research   | $65,000   | Federal                  | NIH National Institutes of Health - Miscellaneous      | VC Res Other Research Units          | The California Institute for Quantitative Biosciences (QB3) | 78561 | 021425-002       | Keasling, Jay             | 7/1/2006           | 12/31/2006       | Model-Driven Strain Engineering for Isoprenoid Drug Prod ... | The California Institute for Quantitative Biosciences (QB3) | 65000        | 2006\n",
       "Other            | $30,937   | Not for Profit           | E.J. Slosson Endowment Fund                            | VC Research Museums & Field Stations | Botanical Garden                                            | 91478 | 020907-002       | Carmichael, A Christopher | 7/1/2006           | 6/30/2007        | UC Botanical Garden Interpretive Project                     | Botanical Garden                                            | 30937        | 2006\n",
       "Other            | $0        | Not for Profit           | E.J. Slosson Endowment Fund                            | VC Research Museums & Field Stations | Botanical Garden                                            | 91478 | 020907-002       | Carmichael, A Christopher | 7/1/2006           | 6/30/2007        | UC Botanical Garden Interpretive Project                     | Botanical Garden                                            | 0            | 2006\n",
       "Basic research   | $55,474   | Federal                  | NSF National Science Foundation                        | Division of Physical Sciences        | Berkeley Seismological Laboratory                           | 11089 | 021063-002       | Nadeau, Robert            | 7/1/2006           | 6/30/2007        | Seismic Indicators of Time-Varying Deep Deformation Alon ... | Berkeley Seismological Laboratory                           | 55474        | 2006\n",
       "Basic research   | $27,000   | Not for Profit           | California Walnut Board (Frmly Walnut Marketing Board) | CNR College of Natural Resources     | Environmental Science, Policy & Management                  | 78527 | 021120-002       | Welter, Stephen C         | 7/1/2006           | 6/30/2007        | Evaluation of Alternative Pheromone Dispensing Technologies  | Environmental Science, Policy & Management                  | 27000        | 2006\n",
       "Basic research   | $50,000   | University of California | UC Biotechnology Research and Education (BREP)         | Division of Physical Sciences        | Physics                                                     | nan   | 021264-002       | Liphardt, Jan T           | 7/1/2006           | 6/30/2007        | Model System to Study Translocation of Single Biopolymer ... | Physics                                                     | 50000        | 2006\n",
       "... (39812 rows omitted)"
      ]
     },
     "execution_count": 3,
     "metadata": {},
     "output_type": "execute_result"
    }
   ],
   "source": [
    "# Cleaning the initial data set\n",
    "\n",
    "def replace_empty_dept(department, division):\n",
    "    if department == 'nan':\n",
    "        dept_div = division\n",
    "    else:\n",
    "        dept_div = department\n",
    "    replace = ['School of ', 'DO NOT USE ', 'College of ', 'Department ']\n",
    "    for word in replace:\n",
    "        dept_div = dept_div.replace(word, '')\n",
    "    return dept_div\n",
    "\n",
    "def int_monetary_value(money_str):\n",
    "    money_str = money_str.replace('$', '').replace(' ', '').replace(',', '')\n",
    "    if '(' in money_str:\n",
    "        money_str = '-' + money_str.replace('(', '').replace(')', '')\n",
    "    return int(money_str)\n",
    "\n",
    "def extract_year(date):\n",
    "    return int(date[-4:])\n",
    "\n",
    "grant_data.append_column('Dept/Division', grant_data.apply(replace_empty_dept, ['Department', 'Division']))\n",
    "grant_data.append_column('Grant Amount', grant_data.apply(int_monetary_value, 'Amount'))\n",
    "grant_data.append_column('Year', grant_data.apply(extract_year, 'Project Begin Date'))\n",
    "\n",
    "grant_data"
   ]
  },
  {
   "cell_type": "code",
   "execution_count": 4,
   "metadata": {
    "collapsed": false
   },
   "outputs": [],
   "source": [
    "grant_data.sort('Grant Amount', descending=True).to_df().to_csv('cleaned_research_spo_data.csv', index=False)"
   ]
  },
  {
   "cell_type": "code",
   "execution_count": 5,
   "metadata": {
    "collapsed": false
   },
   "outputs": [],
   "source": [
    "# Analyzing by Department\n",
    "\n",
    "by_dept = grant_data.select([0, 2, 'Dept/Division', 'Grant Amount', 'Year']).group('Dept/Division', list)\n",
    "by_dept.append_column('Grant Amount', by_dept.apply(sum, 'Grant Amount list'))\n",
    "by_dept = by_dept.drop('Grant Amount list')"
   ]
  },
  {
   "cell_type": "code",
   "execution_count": 6,
   "metadata": {
    "collapsed": false
   },
   "outputs": [],
   "source": [
    "# Reformatting currency\n",
    "\n",
    "def format_currency(grant):\n",
    "    return '${:,}'.format(grant)\n",
    "\n",
    "def format_money_table(table):\n",
    "    table = table.sort('Grant Amount', descending=True)\n",
    "    table.append_column('Grant Amount', table.apply(format_currency, 'Grant Amount'))\n",
    "    return table"
   ]
  },
  {
   "cell_type": "code",
   "execution_count": 7,
   "metadata": {
    "collapsed": false,
    "scrolled": true
   },
   "outputs": [
    {
     "data": {
      "text/html": [
       "<table border=\"1\" class=\"dataframe\">\n",
       "    <thead>\n",
       "        <tr>\n",
       "            <th>Dept/Division</th> <th>Grant Amount</th> <th>Federal</th> <th>State of California</th> <th>Non Profit</th> <th>University of California</th> <th>Other</th>\n",
       "        </tr>\n",
       "    </thead>\n",
       "    <tbody>\n",
       "        <tr>\n",
       "            <td>ERSO Engineering Research Support Organization             </td> <td>$1,024,039,099</td> <td>3808   </td> <td>192                </td> <td>614       </td> <td>344                     </td> <td>1127 </td>\n",
       "        </tr>\n",
       "    </tbody>\n",
       "        <tr>\n",
       "            <td>SSL Space Sciences Lab                                     </td> <td>$551,464,465  </td> <td>1969   </td> <td>0                  </td> <td>105       </td> <td>2                       </td> <td>35   </td>\n",
       "        </tr>\n",
       "    </tbody>\n",
       "        <tr>\n",
       "            <td>MCB Molecular & Cell Biology                               </td> <td>$438,743,186  </td> <td>1404   </td> <td>14                 </td> <td>1262      </td> <td>44                      </td> <td>155  </td>\n",
       "        </tr>\n",
       "    </tbody>\n",
       "        <tr>\n",
       "            <td>The California Institute for Quantitative Biosciences (QB3)</td> <td>$371,026,612  </td> <td>1388   </td> <td>25                 </td> <td>476       </td> <td>41                      </td> <td>263  </td>\n",
       "        </tr>\n",
       "    </tbody>\n",
       "        <tr>\n",
       "            <td>Vice Chancellor for Research ORUs                          </td> <td>$350,100,000  </td> <td>0      </td> <td>0                  </td> <td>6         </td> <td>0                       </td> <td>21   </td>\n",
       "        </tr>\n",
       "    </tbody>\n",
       "        <tr>\n",
       "            <td>Social Welfare                                             </td> <td>$321,827,582  </td> <td>33     </td> <td>52                 </td> <td>152       </td> <td>6                       </td> <td>10   </td>\n",
       "        </tr>\n",
       "    </tbody>\n",
       "        <tr>\n",
       "            <td>Dean's Office, Public Health                               </td> <td>$249,912,382  </td> <td>606    </td> <td>167                </td> <td>218       </td> <td>16                      </td> <td>38   </td>\n",
       "        </tr>\n",
       "    </tbody>\n",
       "        <tr>\n",
       "            <td>Chemistry Department                                       </td> <td>$243,057,863  </td> <td>1956   </td> <td>16                 </td> <td>270       </td> <td>24                      </td> <td>176  </td>\n",
       "        </tr>\n",
       "    </tbody>\n",
       "        <tr>\n",
       "            <td>Physics                                                    </td> <td>$232,763,865  </td> <td>1136   </td> <td>0                  </td> <td>165       </td> <td>28                      </td> <td>51   </td>\n",
       "        </tr>\n",
       "    </tbody>\n",
       "        <tr>\n",
       "            <td>Graduate Division Dean                                     </td> <td>$217,414,180  </td> <td>135    </td> <td>0                  </td> <td>134       </td> <td>0                       </td> <td>0    </td>\n",
       "        </tr>\n",
       "    </tbody>\n",
       "</table>\n",
       "<p>... (217 rows omitted)</p"
      ],
      "text/plain": [
       "Dept/Division                                               | Grant Amount   | Federal | State of California | Non Profit | University of California | Other\n",
       "ERSO Engineering Research Support Organization              | $1,024,039,099 | 3808    | 192                 | 614        | 344                      | 1127\n",
       "SSL Space Sciences Lab                                      | $551,464,465   | 1969    | 0                   | 105        | 2                        | 35\n",
       "MCB Molecular & Cell Biology                                | $438,743,186   | 1404    | 14                  | 1262       | 44                       | 155\n",
       "The California Institute for Quantitative Biosciences (QB3) | $371,026,612   | 1388    | 25                  | 476        | 41                       | 263\n",
       "Vice Chancellor for Research ORUs                           | $350,100,000   | 0       | 0                   | 6          | 0                        | 21\n",
       "Social Welfare                                              | $321,827,582   | 33      | 52                  | 152        | 6                        | 10\n",
       "Dean's Office, Public Health                                | $249,912,382   | 606     | 167                 | 218        | 16                       | 38\n",
       "Chemistry Department                                        | $243,057,863   | 1956    | 16                  | 270        | 24                       | 176\n",
       "Physics                                                     | $232,763,865   | 1136    | 0                   | 165        | 28                       | 51\n",
       "Graduate Division Dean                                      | $217,414,180   | 135     | 0                   | 134        | 0                        | 0\n",
       "... (217 rows omitted)"
      ]
     },
     "execution_count": 7,
     "metadata": {},
     "output_type": "execute_result"
    }
   ],
   "source": [
    "# Exploring sources of funding for the top grant recipients\n",
    "\n",
    "def sponsor_counts(sponsor_list):\n",
    "    count_list = [sponsor_list.count('Federal'), sponsor_list.count('State of California'), sponsor_list.count('Not for Profit'),\\\n",
    "            sponsor_list.count('University of California')]\n",
    "    count_list.append(len(sponsor_list) - sum(count_list))\n",
    "    return count_list\n",
    "\n",
    "counts = Table(['Federal', 'State of California', 'Non Profit', 'University of California', 'Other']).with_rows(\n",
    "                    by_dept.apply(sponsor_counts, 'Sponsor Class list'))\n",
    "\n",
    "by_dept_funding = by_dept.drop([1,2,3]).with_columns(['Federal', counts[0],\n",
    "                                                      'State of California', counts[1],\n",
    "                                                      'Non Profit', counts[2],\n",
    "                                                      'University of California', counts[3],\n",
    "                                                      'Other', counts[4]])\n",
    "\n",
    "by_dept_funding = format_money_table(by_dept_funding)\n",
    "by_dept_funding"
   ]
  },
  {
   "cell_type": "code",
   "execution_count": 8,
   "metadata": {
    "collapsed": false
   },
   "outputs": [
    {
     "data": {
      "text/html": [
       "<table border=\"1\" class=\"dataframe\">\n",
       "    <thead>\n",
       "        <tr>\n",
       "            <th>Dept/Division</th> <th>Grant Amount</th> <th>Applied Research</th> <th>Basic Research</th> <th>Training</th> <th>Instruction</th> <th>Services</th> <th>Other</th> <th>Total</th>\n",
       "        </tr>\n",
       "    </thead>\n",
       "    <tbody>\n",
       "        <tr>\n",
       "            <td>ERSO Engineering Research Support Organization             </td> <td>$1,024,039,099</td> <td>282             </td> <td>5242          </td> <td>26      </td> <td>8          </td> <td>6       </td> <td>521  </td> <td>6085 </td>\n",
       "        </tr>\n",
       "    </tbody>\n",
       "        <tr>\n",
       "            <td>SSL Space Sciences Lab                                     </td> <td>$551,464,465  </td> <td>108             </td> <td>1769          </td> <td>2       </td> <td>0          </td> <td>110     </td> <td>122  </td> <td>2111 </td>\n",
       "        </tr>\n",
       "    </tbody>\n",
       "        <tr>\n",
       "            <td>MCB Molecular & Cell Biology                               </td> <td>$438,743,186  </td> <td>24              </td> <td>2748          </td> <td>62      </td> <td>0          </td> <td>1       </td> <td>44   </td> <td>2879 </td>\n",
       "        </tr>\n",
       "    </tbody>\n",
       "        <tr>\n",
       "            <td>The California Institute for Quantitative Biosciences (QB3)</td> <td>$371,026,612  </td> <td>60              </td> <td>1782          </td> <td>22      </td> <td>13         </td> <td>0       </td> <td>316  </td> <td>2193 </td>\n",
       "        </tr>\n",
       "    </tbody>\n",
       "        <tr>\n",
       "            <td>Vice Chancellor for Research ORUs                          </td> <td>$350,100,000  </td> <td>0               </td> <td>27            </td> <td>0       </td> <td>0          </td> <td>0       </td> <td>0    </td> <td>27   </td>\n",
       "        </tr>\n",
       "    </tbody>\n",
       "        <tr>\n",
       "            <td>Social Welfare                                             </td> <td>$321,827,582  </td> <td>2               </td> <td>125           </td> <td>13      </td> <td>68         </td> <td>5       </td> <td>40   </td> <td>253  </td>\n",
       "        </tr>\n",
       "    </tbody>\n",
       "        <tr>\n",
       "            <td>Dean's Office, Public Health                               </td> <td>$249,912,382  </td> <td>238             </td> <td>505           </td> <td>175     </td> <td>5          </td> <td>64      </td> <td>58   </td> <td>1045 </td>\n",
       "        </tr>\n",
       "    </tbody>\n",
       "        <tr>\n",
       "            <td>Chemistry Department                                       </td> <td>$243,057,863  </td> <td>16              </td> <td>1313          </td> <td>42      </td> <td>4          </td> <td>7       </td> <td>1060 </td> <td>2442 </td>\n",
       "        </tr>\n",
       "    </tbody>\n",
       "        <tr>\n",
       "            <td>Physics                                                    </td> <td>$232,763,865  </td> <td>7               </td> <td>993           </td> <td>9       </td> <td>0          </td> <td>1       </td> <td>370  </td> <td>1380 </td>\n",
       "        </tr>\n",
       "    </tbody>\n",
       "        <tr>\n",
       "            <td>Graduate Division Dean                                     </td> <td>$217,414,180  </td> <td>1               </td> <td>51            </td> <td>16      </td> <td>1          </td> <td>0       </td> <td>200  </td> <td>269  </td>\n",
       "        </tr>\n",
       "    </tbody>\n",
       "</table>\n",
       "<p>... (217 rows omitted)</p"
      ],
      "text/plain": [
       "Dept/Division                                               | Grant Amount   | Applied Research | Basic Research | Training | Instruction | Services | Other | Total\n",
       "ERSO Engineering Research Support Organization              | $1,024,039,099 | 282              | 5242           | 26       | 8           | 6        | 521   | 6085\n",
       "SSL Space Sciences Lab                                      | $551,464,465   | 108              | 1769           | 2        | 0           | 110      | 122   | 2111\n",
       "MCB Molecular & Cell Biology                                | $438,743,186   | 24               | 2748           | 62       | 0           | 1        | 44    | 2879\n",
       "The California Institute for Quantitative Biosciences (QB3) | $371,026,612   | 60               | 1782           | 22       | 13          | 0        | 316   | 2193\n",
       "Vice Chancellor for Research ORUs                           | $350,100,000   | 0                | 27             | 0        | 0           | 0        | 0     | 27\n",
       "Social Welfare                                              | $321,827,582   | 2                | 125            | 13       | 68          | 5        | 40    | 253\n",
       "Dean's Office, Public Health                                | $249,912,382   | 238              | 505            | 175      | 5           | 64       | 58    | 1045\n",
       "Chemistry Department                                        | $243,057,863   | 16               | 1313           | 42       | 4           | 7        | 1060  | 2442\n",
       "Physics                                                     | $232,763,865   | 7                | 993            | 9        | 0           | 1        | 370   | 1380\n",
       "Graduate Division Dean                                      | $217,414,180   | 1                | 51             | 16       | 1           | 0        | 200   | 269\n",
       "... (217 rows omitted)"
      ]
     },
     "execution_count": 8,
     "metadata": {},
     "output_type": "execute_result"
    }
   ],
   "source": [
    "# Exploring what kind of research is taking place for each grant recipient\n",
    "def activity_counts(activity_list):\n",
    "    count_list = [activity_list.count('Applied research'), activity_list.count('Basic research'), activity_list.count('Training'), \\\n",
    "                  activity_list.count('Instruction'), activity_list.count('Services'), activity_list.count('Other')]\n",
    "    count_list[5] += len(activity_list) - sum(count_list)\n",
    "    return count_list\n",
    "\n",
    "counts = Table(['Applied research', 'Basic research', 'Training', 'Instruction', 'Services', 'Other']).with_rows(\n",
    "                    by_dept.apply(activity_counts, 'Activity Type list'))\n",
    "\n",
    "by_dept_activity = by_dept.drop([1,2,3]).with_columns(['Applied Research', counts[0],\n",
    "                                                      'Basic Research', counts[1],\n",
    "                                                      'Training', counts[2],\n",
    "                                                      'Instruction', counts[3],\n",
    "                                                      'Services', counts[4],\n",
    "                                                      'Other', counts[5]])\n",
    "total = counts[0]\n",
    "for i in np.arange(1, 6):\n",
    "    total += counts[i]\n",
    "\n",
    "by_dept_activity = by_dept_activity.with_column('Total', total)\n",
    "by_dept_activity = format_money_table(by_dept_activity)\n",
    "by_dept_activity"
   ]
  },
  {
   "cell_type": "markdown",
   "metadata": {
    "collapsed": true
   },
   "source": [
    "### Interactive Data Exploration\n",
    "\n",
    "- How much have different sources invested in research and how much are they emphasizing it?\n",
    "- Which departments are most involved in heavily funded research? "
   ]
  },
  {
   "cell_type": "code",
   "execution_count": 9,
   "metadata": {
    "collapsed": true
   },
   "outputs": [],
   "source": [
    "from ipywidgets import interact, interactive, fixed\n",
    "import ipywidgets as widgets"
   ]
  },
  {
   "cell_type": "code",
   "execution_count": 10,
   "metadata": {
    "collapsed": false
   },
   "outputs": [],
   "source": [
    "def year(table, yr, show_all_entries):\n",
    "    table = table.where('Year', yr)\n",
    "    if show_all_entries:\n",
    "        table.show()\n",
    "        return\n",
    "    return table\n",
    "\n",
    "def department(table, dept, show_all_entries):\n",
    "    table = table.where('Dept/Division', dept)\n",
    "    if show_all_entries:\n",
    "        table.show()\n",
    "        return\n",
    "    return table\n",
    "\n",
    "def amount(table, threshold_amount, show_all_entries):\n",
    "    table = table.where(table['Grant Amount'] > threshold_amount).sort('Grant Amount', descending=True)\n",
    "    if show_all_entries:\n",
    "        table.show()\n",
    "        return\n",
    "    return table\n",
    "\n",
    "trends = grant_data.drop([1] + list(range(4, 11)))"
   ]
  },
  {
   "cell_type": "code",
   "execution_count": 11,
   "metadata": {
    "collapsed": false
   },
   "outputs": [
    {
     "data": {
      "text/html": [
       "<table border=\"1\" class=\"dataframe\">\n",
       "    <thead>\n",
       "        <tr>\n",
       "            <th>Activity Type</th> <th>Sponsor Class</th> <th>Sponsor</th> <th>Title</th> <th>Dept/Division</th> <th>Grant Amount</th> <th>Year</th>\n",
       "        </tr>\n",
       "    </thead>\n",
       "    <tbody>\n",
       "        <tr>\n",
       "            <td>Other           </td> <td>Not for Profit     </td> <td>Barbro Osher Pro Suecia Foundation        </td> <td>2007-08 Swedish Chamber Orchestra                           </td> <td>CAL Cal Performances                                       </td> <td>25000       </td> <td>2008</td>\n",
       "        </tr>\n",
       "    </tbody>\n",
       "        <tr>\n",
       "            <td>Other           </td> <td>Federal            </td> <td>LBNL Lawrence Berkeley National Laboratory</td> <td>Administrative Specialist Services (42-8)                   </td> <td>Chemistry Department                                       </td> <td>11184       </td> <td>2008</td>\n",
       "        </tr>\n",
       "    </tbody>\n",
       "        <tr>\n",
       "            <td>Basic research  </td> <td>Not for Profit     </td> <td>American Tinnitus Association             </td> <td>Cortical Plasticity in Tinnitus                             </td> <td>Helen Wills Neuroscience Institute                         </td> <td>99949       </td> <td>2008</td>\n",
       "        </tr>\n",
       "    </tbody>\n",
       "        <tr>\n",
       "            <td>Other           </td> <td>Not for Profit     </td> <td>Open Society Institute                    </td> <td>The Berkeley China Internet Project (BCIP)                  </td> <td>Journalism                                                 </td> <td>50000       </td> <td>2008</td>\n",
       "        </tr>\n",
       "    </tbody>\n",
       "        <tr>\n",
       "            <td>Basic research  </td> <td>Not for Profit     </td> <td>Rett Syndrome Research Foundation         </td> <td>Nutritiona Epigenetics in Rett Syndrome                     </td> <td>The California Institute for Quantitative Biosciences (QB3)</td> <td>100000      </td> <td>2008</td>\n",
       "        </tr>\n",
       "    </tbody>\n",
       "        <tr>\n",
       "            <td>Basic research  </td> <td>Federal            </td> <td>NSF National Science Foundation           </td> <td>Collaborative Research: NeTS-NBD: SCAN: Statistical Coll ...</td> <td>ERSO Engineering Research Support Organization             </td> <td>249000      </td> <td>2008</td>\n",
       "        </tr>\n",
       "    </tbody>\n",
       "        <tr>\n",
       "            <td>Basic research  </td> <td>Not for Profit     </td> <td>Damon Runyon Cancer Research Foundation   </td> <td>Regulation of Meiotic Chromosome Behavior in Caenorhabdi ...</td> <td>The California Institute for Quantitative Biosciences (QB3)</td> <td>140000      </td> <td>2008</td>\n",
       "        </tr>\n",
       "    </tbody>\n",
       "        <tr>\n",
       "            <td>Basic research  </td> <td>Not for Profit     </td> <td>Andrew W Mellon Foundation                </td> <td>Rationing Opportunity: Implications of Slower Growth in  ...</td> <td>IBER Institute of Business & Economic Research             </td> <td>84000       </td> <td>2008</td>\n",
       "        </tr>\n",
       "    </tbody>\n",
       "        <tr>\n",
       "            <td>Basic research  </td> <td>Industry           </td> <td>IR Biosciences Holdings, Inc.             </td> <td>The Effect of Peptide Drugs on hESC Proliferation and Di ...</td> <td>The California Institute for Quantitative Biosciences (QB3)</td> <td>146689      </td> <td>2008</td>\n",
       "        </tr>\n",
       "    </tbody>\n",
       "        <tr>\n",
       "            <td>Applied research</td> <td>State of California</td> <td>California Energy Commission              </td> <td>Participation Agreement Between the Regents of the Unive ...</td> <td>CEDR Center for Environmental Design Research              </td> <td>30000       </td> <td>2008</td>\n",
       "        </tr>\n",
       "    </tbody>\n",
       "</table>\n",
       "<p>... (4004 rows omitted)</p"
      ],
      "text/plain": [
       "Activity Type    | Sponsor Class       | Sponsor                                    | Title                                                        | Dept/Division                                               | Grant Amount | Year\n",
       "Other            | Not for Profit      | Barbro Osher Pro Suecia Foundation         | 2007-08 Swedish Chamber Orchestra                            | CAL Cal Performances                                        | 25000        | 2008\n",
       "Other            | Federal             | LBNL Lawrence Berkeley National Laboratory | Administrative Specialist Services (42-8)                    | Chemistry Department                                        | 11184        | 2008\n",
       "Basic research   | Not for Profit      | American Tinnitus Association              | Cortical Plasticity in Tinnitus                              | Helen Wills Neuroscience Institute                          | 99949        | 2008\n",
       "Other            | Not for Profit      | Open Society Institute                     | The Berkeley China Internet Project (BCIP)                   | Journalism                                                  | 50000        | 2008\n",
       "Basic research   | Not for Profit      | Rett Syndrome Research Foundation          | Nutritiona Epigenetics in Rett Syndrome                      | The California Institute for Quantitative Biosciences (QB3) | 100000       | 2008\n",
       "Basic research   | Federal             | NSF National Science Foundation            | Collaborative Research: NeTS-NBD: SCAN: Statistical Coll ... | ERSO Engineering Research Support Organization              | 249000       | 2008\n",
       "Basic research   | Not for Profit      | Damon Runyon Cancer Research Foundation    | Regulation of Meiotic Chromosome Behavior in Caenorhabdi ... | The California Institute for Quantitative Biosciences (QB3) | 140000       | 2008\n",
       "Basic research   | Not for Profit      | Andrew W Mellon Foundation                 | Rationing Opportunity: Implications of Slower Growth in  ... | IBER Institute of Business & Economic Research              | 84000        | 2008\n",
       "Basic research   | Industry            | IR Biosciences Holdings, Inc.              | The Effect of Peptide Drugs on hESC Proliferation and Di ... | The California Institute for Quantitative Biosciences (QB3) | 146689       | 2008\n",
       "Applied research | State of California | California Energy Commission               | Participation Agreement Between the Regents of the Unive ... | CEDR Center for Environmental Design Research               | 30000        | 2008\n",
       "... (4004 rows omitted)"
      ]
     },
     "metadata": {},
     "output_type": "display_data"
    }
   ],
   "source": [
    "interact(year, table=fixed(trends), yr=widgets.IntSlider(min=1997,max=2016,step=1,value=2005), show_all_entries=False)"
   ]
  },
  {
   "cell_type": "code",
   "execution_count": 12,
   "metadata": {
    "collapsed": false
   },
   "outputs": [
    {
     "data": {
      "text/html": [
       "<table border=\"1\" class=\"dataframe\">\n",
       "    <thead>\n",
       "        <tr>\n",
       "            <th>Activity Type</th> <th>Sponsor Class</th> <th>Sponsor</th> <th>Title</th> <th>Dept/Division</th> <th>Grant Amount</th> <th>Year</th>\n",
       "        </tr>\n",
       "    </thead>\n",
       "    <tbody>\n",
       "        <tr>\n",
       "            <td>Other        </td> <td>Not for Profit</td> <td>Andrew W Mellon Foundation</td> <td>DiRT Directory</td> <td>Research Information</td> <td>150000      </td> <td>2013</td>\n",
       "        </tr>\n",
       "    </tbody>\n",
       "        <tr>\n",
       "            <td>Other        </td> <td>Not for Profit</td> <td>Andrew W Mellon Foundation</td> <td>DiRT Directory</td> <td>Research Information</td> <td>0           </td> <td>2013</td>\n",
       "        </tr>\n",
       "    </tbody>\n",
       "</table>"
      ],
      "text/plain": [
       "Activity Type | Sponsor Class  | Sponsor                    | Title          | Dept/Division        | Grant Amount | Year\n",
       "Other         | Not for Profit | Andrew W Mellon Foundation | DiRT Directory | Research Information | 150000       | 2013\n",
       "Other         | Not for Profit | Andrew W Mellon Foundation | DiRT Directory | Research Information | 0            | 2013"
      ]
     },
     "metadata": {},
     "output_type": "display_data"
    },
    {
     "data": {
      "text/plain": [
       "<function __main__.department>"
      ]
     },
     "execution_count": 12,
     "metadata": {},
     "output_type": "execute_result"
    }
   ],
   "source": [
    "interact(department, table=fixed(trends), dept=list(set(trends['Dept/Division'])), show_all_entries=False)"
   ]
  },
  {
   "cell_type": "code",
   "execution_count": 13,
   "metadata": {
    "collapsed": false
   },
   "outputs": [
    {
     "data": {
      "text/html": [
       "<table border=\"1\" class=\"dataframe\">\n",
       "    <thead>\n",
       "        <tr>\n",
       "            <th>Activity Type</th> <th>Sponsor Class</th> <th>Sponsor</th> <th>Title</th> <th>Dept/Division</th> <th>Grant Amount</th> <th>Year</th>\n",
       "        </tr>\n",
       "    </thead>\n",
       "    <tbody>\n",
       "        <tr>\n",
       "            <td>Basic research</td> <td>Industry      </td> <td>BP Group (BP America, BP Exploration, British Petroleum)    </td> <td>Energy Biosciences Institute                         </td> <td>Vice Chancellor for Research ORUs           </td> <td>346371180   </td> <td>2007</td>\n",
       "        </tr>\n",
       "    </tbody>\n",
       "        <tr>\n",
       "            <td>Basic research</td> <td>Federal       </td> <td>NASA National Aeronautics and Space Administration Godda ...</td> <td>The Ionospheric CONnection Explorer (ICON) Phases B-F</td> <td>SSL Space Sciences Lab                      </td> <td>132635047   </td> <td>2012</td>\n",
       "        </tr>\n",
       "    </tbody>\n",
       "        <tr>\n",
       "            <td>Basic research</td> <td>Not for Profit</td> <td>Simons Foundation                                           </td> <td>Simons Institute for the Theory of Computing         </td> <td>Simons Institute for the Theory of Computing</td> <td>59640000    </td> <td>2012</td>\n",
       "        </tr>\n",
       "    </tbody>\n",
       "</table>"
      ],
      "text/plain": [
       "Activity Type  | Sponsor Class  | Sponsor                                                      | Title                                                 | Dept/Division                                | Grant Amount | Year\n",
       "Basic research | Industry       | BP Group (BP America, BP Exploration, British Petroleum)     | Energy Biosciences Institute                          | Vice Chancellor for Research ORUs            | 346371180    | 2007\n",
       "Basic research | Federal        | NASA National Aeronautics and Space Administration Godda ... | The Ionospheric CONnection Explorer (ICON) Phases B-F | SSL Space Sciences Lab                       | 132635047    | 2012\n",
       "Basic research | Not for Profit | Simons Foundation                                            | Simons Institute for the Theory of Computing          | Simons Institute for the Theory of Computing | 59640000     | 2012"
      ]
     },
     "metadata": {},
     "output_type": "display_data"
    }
   ],
   "source": [
    "interact(amount, table=fixed(trends), \\\n",
    "         threshold_amount=widgets.IntSlider(min=0,max=max(trends['Grant Amount'])-1,step=10000, value=0), show_all_entries=False)"
   ]
  },
  {
   "cell_type": "code",
   "execution_count": 14,
   "metadata": {
    "collapsed": false,
    "scrolled": false
   },
   "outputs": [
    {
     "data": {
      "text/html": [
       "<table border=\"1\" class=\"dataframe\">\n",
       "    <thead>\n",
       "        <tr>\n",
       "            <th>Activity Type</th> <th>Sponsor Class</th> <th>Sponsor</th> <th>Title</th> <th>Dept/Division</th> <th>Grant Amount</th> <th>Year</th> <th>Grant Ranking</th>\n",
       "        </tr>\n",
       "    </thead>\n",
       "    <tbody>\n",
       "        <tr>\n",
       "            <td>Basic research</td> <td>Industry           </td> <td>BP Group (BP America, BP Exploration, British Petroleum)    </td> <td>Energy Biosciences Institute                                </td> <td>Vice Chancellor for Research ORUs                      </td> <td>346371180   </td> <td>2007</td> <td>1            </td>\n",
       "        </tr>\n",
       "    </tbody>\n",
       "        <tr>\n",
       "            <td>Basic research</td> <td>Federal            </td> <td>NASA National Aeronautics and Space Administration Godda ...</td> <td>The Ionospheric CONnection Explorer (ICON) Phases B-F       </td> <td>SSL Space Sciences Lab                                 </td> <td>132635047   </td> <td>2012</td> <td>2            </td>\n",
       "        </tr>\n",
       "    </tbody>\n",
       "        <tr>\n",
       "            <td>Basic research</td> <td>Not for Profit     </td> <td>Simons Foundation                                           </td> <td>Simons Institute for the Theory of Computing                </td> <td>Simons Institute for the Theory of Computing           </td> <td>59640000    </td> <td>2012</td> <td>3            </td>\n",
       "        </tr>\n",
       "    </tbody>\n",
       "        <tr>\n",
       "            <td>Instruction   </td> <td>State of California</td> <td>California Department of Social Services                    </td> <td>Title IV-E Social Work Training Program                     </td> <td>Social Welfare                                         </td> <td>32745069    </td> <td>2010</td> <td>4            </td>\n",
       "        </tr>\n",
       "    </tbody>\n",
       "        <tr>\n",
       "            <td>Instruction   </td> <td>State of California</td> <td>California Department of Social Services                    </td> <td>Title IV-E Social Work Training Program                     </td> <td>Social Welfare                                         </td> <td>32587458    </td> <td>2012</td> <td>5            </td>\n",
       "        </tr>\n",
       "    </tbody>\n",
       "        <tr>\n",
       "            <td>Instruction   </td> <td>State of California</td> <td>California Department of Social Services                    </td> <td>Title IV-E Social Work Training Progam                      </td> <td>Social Welfare                                         </td> <td>32463656    </td> <td>2011</td> <td>6            </td>\n",
       "        </tr>\n",
       "    </tbody>\n",
       "        <tr>\n",
       "            <td>Instruction   </td> <td>State of California</td> <td>California Department of Social Services                    </td> <td>Title IV-E Social Work Training Program                     </td> <td>Social Welfare                                         </td> <td>30752572    </td> <td>2009</td> <td>7            </td>\n",
       "        </tr>\n",
       "    </tbody>\n",
       "        <tr>\n",
       "            <td>Basic research</td> <td>Federal            </td> <td>NSF National Science Foundation                             </td> <td>Developing the Preliminary Design for the Deep Undergrou ...</td> <td>DUSEL Deep Underground Science & Engineering Laboratory</td> <td>29092000    </td> <td>2009</td> <td>8            </td>\n",
       "        </tr>\n",
       "    </tbody>\n",
       "        <tr>\n",
       "            <td>Instruction   </td> <td>State of California</td> <td>California Department of Social Services                    </td> <td>Title IVE Social Work Training Program                      </td> <td>Social Welfare                                         </td> <td>28986867    </td> <td>2008</td> <td>9            </td>\n",
       "        </tr>\n",
       "    </tbody>\n",
       "        <tr>\n",
       "            <td>Basic research</td> <td>Not for Profit     </td> <td>MARCO Microelectronics Advanced Research Corporation        </td> <td>The TerraSwarm Research Center                              </td> <td>ERSO Engineering Research Support Organization         </td> <td>27573125    </td> <td>2013</td> <td>10           </td>\n",
       "        </tr>\n",
       "    </tbody>\n",
       "</table>\n",
       "<p>... (90 rows omitted)</p"
      ],
      "text/plain": [
       "Activity Type  | Sponsor Class       | Sponsor                                                      | Title                                                        | Dept/Division                                           | Grant Amount | Year | Grant Ranking\n",
       "Basic research | Industry            | BP Group (BP America, BP Exploration, British Petroleum)     | Energy Biosciences Institute                                 | Vice Chancellor for Research ORUs                       | 346371180    | 2007 | 1\n",
       "Basic research | Federal             | NASA National Aeronautics and Space Administration Godda ... | The Ionospheric CONnection Explorer (ICON) Phases B-F        | SSL Space Sciences Lab                                  | 132635047    | 2012 | 2\n",
       "Basic research | Not for Profit      | Simons Foundation                                            | Simons Institute for the Theory of Computing                 | Simons Institute for the Theory of Computing            | 59640000     | 2012 | 3\n",
       "Instruction    | State of California | California Department of Social Services                     | Title IV-E Social Work Training Program                      | Social Welfare                                          | 32745069     | 2010 | 4\n",
       "Instruction    | State of California | California Department of Social Services                     | Title IV-E Social Work Training Program                      | Social Welfare                                          | 32587458     | 2012 | 5\n",
       "Instruction    | State of California | California Department of Social Services                     | Title IV-E Social Work Training Progam                       | Social Welfare                                          | 32463656     | 2011 | 6\n",
       "Instruction    | State of California | California Department of Social Services                     | Title IV-E Social Work Training Program                      | Social Welfare                                          | 30752572     | 2009 | 7\n",
       "Basic research | Federal             | NSF National Science Foundation                              | Developing the Preliminary Design for the Deep Undergrou ... | DUSEL Deep Underground Science & Engineering Laboratory | 29092000     | 2009 | 8\n",
       "Instruction    | State of California | California Department of Social Services                     | Title IVE Social Work Training Program                       | Social Welfare                                          | 28986867     | 2008 | 9\n",
       "Basic research | Not for Profit      | MARCO Microelectronics Advanced Research Corporation         | The TerraSwarm Research Center                               | ERSO Engineering Research Support Organization          | 27573125     | 2013 | 10\n",
       "... (90 rows omitted)"
      ]
     },
     "execution_count": 14,
     "metadata": {},
     "output_type": "execute_result"
    }
   ],
   "source": [
    "top_100_grants = trends.sort('Grant Amount', descending=True).take(range(0,100))\n",
    "top_100_grants = top_100_grants.with_column('Grant Ranking', np.arange(1, 101))\n",
    "top_100_grants"
   ]
  }
 ],
 "metadata": {
  "kernelspec": {
   "display_name": "Python 3",
   "language": "python",
   "name": "python3"
  },
  "language_info": {
   "codemirror_mode": {
    "name": "ipython",
    "version": 3
   },
   "file_extension": ".py",
   "mimetype": "text/x-python",
   "name": "python",
   "nbconvert_exporter": "python",
   "pygments_lexer": "ipython3",
   "version": "3.5.1"
  }
 },
 "nbformat": 4,
 "nbformat_minor": 0
}
