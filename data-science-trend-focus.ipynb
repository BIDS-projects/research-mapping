{
 "cells": [
  {
   "cell_type": "markdown",
   "metadata": {},
   "source": [
    "### Initial Analysis of Data Set\n",
    "\n",
    "- Which departments get the most funding? \n",
    "- What type of research do they conduct? \n",
    "- Where is the money coming from, by department?"
   ]
  },
  {
   "cell_type": "code",
   "execution_count": 1,
   "metadata": {
    "collapsed": false
   },
   "outputs": [],
   "source": [
    "import matplotlib\n",
    "%matplotlib inline\n",
    "import matplotlib.pyplot as plt\n",
    "plt.style.use('fivethirtyeight')\n",
    "\n",
    "from datascience import *\n",
    "import numpy as np\n",
    "\n",
    "import locale\n",
    "import re\n",
    "import csv"
   ]
  },
  {
   "cell_type": "code",
   "execution_count": 2,
   "metadata": {
    "collapsed": false
   },
   "outputs": [
    {
     "data": {
      "text/html": [
       "<table border=\"1\" class=\"dataframe\">\n",
       "    <thead>\n",
       "        <tr>\n",
       "            <th>Activity Type</th> <th>Amount</th> <th>Sponsor Class</th> <th>Sponsor</th> <th>Division</th> <th>Department</th> <th>Fund</th> <th>UCB Award Number</th> <th>PI Name</th> <th>Project Begin Date</th> <th>Project End Date</th> <th>Title</th> <th>Dept/Division</th> <th>Grant Amount</th> <th>Year</th>\n",
       "        </tr>\n",
       "    </thead>\n",
       "    <tbody>\n",
       "        <tr>\n",
       "            <td>Basic research</td> <td>$346,371,180 </td> <td>Industry           </td> <td>BP Group (BP America, BP Exploration, British Petroleum)    </td> <td>Vice Chancellor for Research ORUs</td> <td>nan                                                    </td> <td>86016</td> <td>022711-002      </td> <td>Fleming, Graham R  </td> <td>7/1/2007          </td> <td>6/30/2017       </td> <td>Energy Biosciences Institute                                </td> <td>Vice Chancellor for Research ORUs                      </td> <td>346371180   </td> <td>2007</td>\n",
       "        </tr>\n",
       "    </tbody>\n",
       "        <tr>\n",
       "            <td>Basic research</td> <td>$132,635,047 </td> <td>Federal            </td> <td>NASA National Aeronautics and Space Administration Godda ...</td> <td>Vice Chancellor for Research ORUs</td> <td>SSL Space Sciences Lab                                 </td> <td>27174</td> <td>032139-002      </td> <td>Immel, Thomas      </td> <td>1/11/2012         </td> <td>2/28/2020       </td> <td>The Ionospheric CONnection Explorer (ICON) Phases B-F       </td> <td>SSL Space Sciences Lab                                 </td> <td>132635047   </td> <td>2012</td>\n",
       "        </tr>\n",
       "    </tbody>\n",
       "        <tr>\n",
       "            <td>Basic research</td> <td>$59,640,000  </td> <td>Not for Profit     </td> <td>Simons Foundation                                           </td> <td>VC Res Other Research Units      </td> <td>Simons Institute for the Theory of Computing           </td> <td>95650</td> <td>033018-002      </td> <td>Karp, Richard M    </td> <td>7/1/2012          </td> <td>6/30/2022       </td> <td>Simons Institute for the Theory of Computing                </td> <td>Simons Institute for the Theory of Computing           </td> <td>59640000    </td> <td>2012</td>\n",
       "        </tr>\n",
       "    </tbody>\n",
       "        <tr>\n",
       "            <td>Instruction   </td> <td>$32,745,069  </td> <td>State of California</td> <td>California Department of Social Services                    </td> <td>School of Social Welfare         </td> <td>nan                                                    </td> <td>77954</td> <td>029530-002      </td> <td>Midanik, Lorraine T</td> <td>7/1/2010          </td> <td>6/30/2011       </td> <td>Title IV-E Social Work Training Program                     </td> <td>Social Welfare                                         </td> <td>32745069    </td> <td>2010</td>\n",
       "        </tr>\n",
       "    </tbody>\n",
       "        <tr>\n",
       "            <td>Instruction   </td> <td>$32,587,458  </td> <td>State of California</td> <td>California Department of Social Services                    </td> <td>School of Social Welfare         </td> <td>Social Welfare                                         </td> <td>84402</td> <td>033267-002      </td> <td>Edleson, Jeffrey L </td> <td>7/1/2012          </td> <td>6/30/2013       </td> <td>Title IV-E Social Work Training Program                     </td> <td>Social Welfare                                         </td> <td>32587458    </td> <td>2012</td>\n",
       "        </tr>\n",
       "    </tbody>\n",
       "        <tr>\n",
       "            <td>Instruction   </td> <td>$32,463,656  </td> <td>State of California</td> <td>California Department of Social Services                    </td> <td>School of Social Welfare         </td> <td>Social Welfare                                         </td> <td>96762</td> <td>031469-002      </td> <td>Davis, Sam         </td> <td>7/1/2011          </td> <td>6/30/2012       </td> <td>Title IV-E Social Work Training Progam                      </td> <td>Social Welfare                                         </td> <td>32463656    </td> <td>2011</td>\n",
       "        </tr>\n",
       "    </tbody>\n",
       "        <tr>\n",
       "            <td>Instruction   </td> <td>$30,752,572  </td> <td>State of California</td> <td>California Department of Social Services                    </td> <td>School of Social Welfare         </td> <td>nan                                                    </td> <td>15345</td> <td>027256-002      </td> <td>Midanik, Lorraine T</td> <td>7/1/2009          </td> <td>6/30/2010       </td> <td>Title IV-E Social Work Training Program                     </td> <td>Social Welfare                                         </td> <td>30752572    </td> <td>2009</td>\n",
       "        </tr>\n",
       "    </tbody>\n",
       "        <tr>\n",
       "            <td>Basic research</td> <td>$29,092,000  </td> <td>Federal            </td> <td>NSF National Science Foundation                             </td> <td>VC Res Other Research Units      </td> <td>DUSEL Deep Underground Science & Engineering Laboratory</td> <td>30035</td> <td>028649-002      </td> <td>Lesko, Kevin       </td> <td>10/1/2009         </td> <td>9/30/2011       </td> <td>Developing the Preliminary Design for the Deep Undergrou ...</td> <td>DUSEL Deep Underground Science & Engineering Laboratory</td> <td>29092000    </td> <td>2009</td>\n",
       "        </tr>\n",
       "    </tbody>\n",
       "        <tr>\n",
       "            <td>Instruction   </td> <td>$28,986,867  </td> <td>State of California</td> <td>California Department of Social Services                    </td> <td>School of Social Welfare         </td> <td>Social Welfare                                         </td> <td>77730</td> <td>025069-002      </td> <td>Midanik, Lorraine T</td> <td>7/1/2008          </td> <td>6/30/2009       </td> <td>Title IVE Social Work Training Program                      </td> <td>Social Welfare                                         </td> <td>28986867    </td> <td>2008</td>\n",
       "        </tr>\n",
       "    </tbody>\n",
       "        <tr>\n",
       "            <td>Basic research</td> <td>$27,573,125  </td> <td>Not for Profit     </td> <td>MARCO Microelectronics Advanced Research Corporation        </td> <td>College of Engineering           </td> <td>ERSO Engineering Research Support Organization         </td> <td>85550</td> <td>034206-002      </td> <td>Lee, Edward A      </td> <td>1/15/2013         </td> <td>10/31/2017      </td> <td>The TerraSwarm Research Center                              </td> <td>ERSO Engineering Research Support Organization         </td> <td>27573125    </td> <td>2013</td>\n",
       "        </tr>\n",
       "    </tbody>\n",
       "</table>\n",
       "<p>... (39812 rows omitted)</p"
      ],
      "text/plain": [
       "Activity Type  | Amount        | Sponsor Class       | Sponsor                                                      | Division                          | Department                                              | Fund  | UCB Award Number | PI Name             | Project Begin Date | Project End Date | Title                                                        | Dept/Division                                           | Grant Amount | Year\n",
       "Basic research | $346,371,180  | Industry            | BP Group (BP America, BP Exploration, British Petroleum)     | Vice Chancellor for Research ORUs | nan                                                     | 86016 | 022711-002       | Fleming, Graham R   | 7/1/2007           | 6/30/2017        | Energy Biosciences Institute                                 | Vice Chancellor for Research ORUs                       | 346371180    | 2007\n",
       "Basic research | $132,635,047  | Federal             | NASA National Aeronautics and Space Administration Godda ... | Vice Chancellor for Research ORUs | SSL Space Sciences Lab                                  | 27174 | 032139-002       | Immel, Thomas       | 1/11/2012          | 2/28/2020        | The Ionospheric CONnection Explorer (ICON) Phases B-F        | SSL Space Sciences Lab                                  | 132635047    | 2012\n",
       "Basic research | $59,640,000   | Not for Profit      | Simons Foundation                                            | VC Res Other Research Units       | Simons Institute for the Theory of Computing            | 95650 | 033018-002       | Karp, Richard M     | 7/1/2012           | 6/30/2022        | Simons Institute for the Theory of Computing                 | Simons Institute for the Theory of Computing            | 59640000     | 2012\n",
       "Instruction    | $32,745,069   | State of California | California Department of Social Services                     | School of Social Welfare          | nan                                                     | 77954 | 029530-002       | Midanik, Lorraine T | 7/1/2010           | 6/30/2011        | Title IV-E Social Work Training Program                      | Social Welfare                                          | 32745069     | 2010\n",
       "Instruction    | $32,587,458   | State of California | California Department of Social Services                     | School of Social Welfare          | Social Welfare                                          | 84402 | 033267-002       | Edleson, Jeffrey L  | 7/1/2012           | 6/30/2013        | Title IV-E Social Work Training Program                      | Social Welfare                                          | 32587458     | 2012\n",
       "Instruction    | $32,463,656   | State of California | California Department of Social Services                     | School of Social Welfare          | Social Welfare                                          | 96762 | 031469-002       | Davis, Sam          | 7/1/2011           | 6/30/2012        | Title IV-E Social Work Training Progam                       | Social Welfare                                          | 32463656     | 2011\n",
       "Instruction    | $30,752,572   | State of California | California Department of Social Services                     | School of Social Welfare          | nan                                                     | 15345 | 027256-002       | Midanik, Lorraine T | 7/1/2009           | 6/30/2010        | Title IV-E Social Work Training Program                      | Social Welfare                                          | 30752572     | 2009\n",
       "Basic research | $29,092,000   | Federal             | NSF National Science Foundation                              | VC Res Other Research Units       | DUSEL Deep Underground Science & Engineering Laboratory | 30035 | 028649-002       | Lesko, Kevin        | 10/1/2009          | 9/30/2011        | Developing the Preliminary Design for the Deep Undergrou ... | DUSEL Deep Underground Science & Engineering Laboratory | 29092000     | 2009\n",
       "Instruction    | $28,986,867   | State of California | California Department of Social Services                     | School of Social Welfare          | Social Welfare                                          | 77730 | 025069-002       | Midanik, Lorraine T | 7/1/2008           | 6/30/2009        | Title IVE Social Work Training Program                       | Social Welfare                                          | 28986867     | 2008\n",
       "Basic research | $27,573,125   | Not for Profit      | MARCO Microelectronics Advanced Research Corporation         | College of Engineering            | ERSO Engineering Research Support Organization          | 85550 | 034206-002       | Lee, Edward A       | 1/15/2013          | 10/31/2017       | The TerraSwarm Research Center                               | ERSO Engineering Research Support Organization          | 27573125     | 2013\n",
       "... (39812 rows omitted)"
      ]
     },
     "execution_count": 2,
     "metadata": {},
     "output_type": "execute_result"
    }
   ],
   "source": [
    "grant_data = Table.read_table('cleaned_research_spo_data.csv')\n",
    "grant_data"
   ]
  },
  {
   "cell_type": "markdown",
   "metadata": {
    "collapsed": true
   },
   "source": [
    "### Data Science Research Trends\n",
    "\n",
    "- How much have different sources invested in data science research and how much are they emphasizing it?\n",
    "- Which departments are most involved in data science research? \n",
    "    - Measuring which different research departments emphasize data science the most at Berkeley."
   ]
  },
  {
   "cell_type": "code",
   "execution_count": 3,
   "metadata": {
    "collapsed": true
   },
   "outputs": [],
   "source": [
    "from ipywidgets import interact, interactive, fixed\n",
    "import ipywidgets as widgets"
   ]
  },
  {
   "cell_type": "code",
   "execution_count": 4,
   "metadata": {
    "collapsed": false
   },
   "outputs": [],
   "source": [
    "trends = grant_data.drop([1] + list(range(4, 11)))\n",
    "ds_words = Table.read_table('ds_words.csv').column(0)\n",
    "data_science = ['data', 'machine learning', 'comput']\n",
    "visualization = ['visualization', 'model', 'D3.js', 'graph']\n",
    "statistical_analysis = ['mathematical modeling', 'analytics', 'analysis', 'regression','statistic', 'probability']\n",
    "programming = ['matplotlib', 'python', 'algorithm', 'coding', 'computational', 'comput']\n",
    "data_management = ['database', 'data management', 'network', 'system', 'aggregation', 'processing', 'parallel']\n",
    "theory = ['intelligence', 'algorithm', 'recognition', 'predictive', 'information theory', 'optimization']\n",
    "new_words = data_science+data_management+visualization+statistical_analysis+programming+theory"
   ]
  },
  {
   "cell_type": "code",
   "execution_count": 5,
   "metadata": {
    "collapsed": false
   },
   "outputs": [],
   "source": [
    "def entries_containing_words(table, words):\n",
    "    entries = []\n",
    "    for i in np.arange(table.num_rows):\n",
    "        title = table['Title'][i]\n",
    "        for word in words:\n",
    "            if word in title or word.title() in title:\n",
    "                entries.append(i)\n",
    "                break\n",
    "    return entries\n",
    "\n",
    "def by_dept(table):\n",
    "    dept_list=[]\n",
    "    for dept in set(table.sort('Dept/Division').column('Dept/Division')):\n",
    "        dept_list.append(table.where('Dept/Division', dept))\n",
    "    return dept_list\n",
    "\n",
    "ds_rows = entries_containing_words(trends, new_words)"
   ]
  },
  {
   "cell_type": "code",
   "execution_count": 6,
   "metadata": {
    "collapsed": false,
    "scrolled": true
   },
   "outputs": [
    {
     "data": {
      "text/html": [
       "<table border=\"1\" class=\"dataframe\">\n",
       "    <thead>\n",
       "        <tr>\n",
       "            <th>Activity Type</th> <th>Sponsor Class</th> <th>Sponsor</th> <th>Title</th> <th>Dept/Division</th> <th>Grant Amount</th> <th>Year</th>\n",
       "        </tr>\n",
       "    </thead>\n",
       "    <tbody>\n",
       "        <tr>\n",
       "            <td>Basic research</td> <td>Not for Profit</td> <td>Simons Foundation                                      </td> <td>Simons Institute for the Theory of Computing                </td> <td>Simons Institute for the Theory of Computing               </td> <td>59640000    </td> <td>2012</td>\n",
       "        </tr>\n",
       "    </tbody>\n",
       "        <tr>\n",
       "            <td>Basic research</td> <td>Federal       </td> <td>NSF National Science Foundation                        </td> <td>The Center of Integrated Nanomechanical Systems (COINS)  ...</td> <td>BNNI Berkeley Nanoscience & Nanoengineering Institute      </td> <td>11582033    </td> <td>2009</td>\n",
       "        </tr>\n",
       "    </tbody>\n",
       "        <tr>\n",
       "            <td>Basic research</td> <td>Federal       </td> <td>NIH National Institute of General Medical Sciences     </td> <td>Center for RNA Systems Biology                              </td> <td>The California Institute for Quantitative Biosciences (QB3)</td> <td>9992931     </td> <td>2012</td>\n",
       "        </tr>\n",
       "    </tbody>\n",
       "        <tr>\n",
       "            <td>Basic research</td> <td>Not for Profit</td> <td>Gordon and Betty Moore Foundation                      </td> <td>Moore/Sloan Data Science Environment                        </td> <td>Data Science Institute                                     </td> <td>9990000     </td> <td>2013</td>\n",
       "        </tr>\n",
       "    </tbody>\n",
       "        <tr>\n",
       "            <td>Basic research</td> <td>Federal       </td> <td>NSF National Science Foundation                        </td> <td>Making Sense at Scale with Algorithms, Machines and People  </td> <td>ERSO Engineering Research Support Organization             </td> <td>9874991     </td> <td>2012</td>\n",
       "        </tr>\n",
       "    </tbody>\n",
       "        <tr>\n",
       "            <td>Basic research</td> <td>Not for Profit</td> <td>MARCO Microelectronics Advanced Research Corporation   </td> <td>Multi-Scale Systems Center                                  </td> <td>ERSO Engineering Research Support Organization             </td> <td>9457500     </td> <td>2009</td>\n",
       "        </tr>\n",
       "    </tbody>\n",
       "        <tr>\n",
       "            <td>Basic research</td> <td>Federal       </td> <td>NIH National Institute of Allergy & Infectious Diseases</td> <td>Mouse Models for Understanding Host Responses to Intrace ...</td> <td>MCB Molecular & Cell Biology                               </td> <td>8314457     </td> <td>2006</td>\n",
       "        </tr>\n",
       "    </tbody>\n",
       "        <tr>\n",
       "            <td>Basic research</td> <td>Industry      </td> <td>Microsoft Corporation                                  </td> <td>University Parallel Computing Research Center               </td> <td>ERSO Engineering Research Support Organization             </td> <td>6000000     </td> <td>2007</td>\n",
       "        </tr>\n",
       "    </tbody>\n",
       "        <tr>\n",
       "            <td>Basic research</td> <td>Not for Profit</td> <td>MARCO Microelectronics Advanced Research Corporation   </td> <td>Systems on Nanoscale Information fabriCs (SONIC) Center     </td> <td>ERSO Engineering Research Support Organization             </td> <td>5133749     </td> <td>2013</td>\n",
       "        </tr>\n",
       "    </tbody>\n",
       "        <tr>\n",
       "            <td>Basic research</td> <td>Federal       </td> <td>DOD Advanced Research Projects Agency                  </td> <td>Algorithms and Specializers for Provably-optimal Impleme ...</td> <td>ERSO Engineering Research Support Organization             </td> <td>5100000     </td> <td>2012</td>\n",
       "        </tr>\n",
       "    </tbody>\n",
       "</table>\n",
       "<p>... (7246 rows omitted)</p"
      ],
      "text/plain": [
       "Activity Type  | Sponsor Class  | Sponsor                                                 | Title                                                        | Dept/Division                                               | Grant Amount | Year\n",
       "Basic research | Not for Profit | Simons Foundation                                       | Simons Institute for the Theory of Computing                 | Simons Institute for the Theory of Computing                | 59640000     | 2012\n",
       "Basic research | Federal        | NSF National Science Foundation                         | The Center of Integrated Nanomechanical Systems (COINS)  ... | BNNI Berkeley Nanoscience & Nanoengineering Institute       | 11582033     | 2009\n",
       "Basic research | Federal        | NIH National Institute of General Medical Sciences      | Center for RNA Systems Biology                               | The California Institute for Quantitative Biosciences (QB3) | 9992931      | 2012\n",
       "Basic research | Not for Profit | Gordon and Betty Moore Foundation                       | Moore/Sloan Data Science Environment                         | Data Science Institute                                      | 9990000      | 2013\n",
       "Basic research | Federal        | NSF National Science Foundation                         | Making Sense at Scale with Algorithms, Machines and People   | ERSO Engineering Research Support Organization              | 9874991      | 2012\n",
       "Basic research | Not for Profit | MARCO Microelectronics Advanced Research Corporation    | Multi-Scale Systems Center                                   | ERSO Engineering Research Support Organization              | 9457500      | 2009\n",
       "Basic research | Federal        | NIH National Institute of Allergy & Infectious Diseases | Mouse Models for Understanding Host Responses to Intrace ... | MCB Molecular & Cell Biology                                | 8314457      | 2006\n",
       "Basic research | Industry       | Microsoft Corporation                                   | University Parallel Computing Research Center                | ERSO Engineering Research Support Organization              | 6000000      | 2007\n",
       "Basic research | Not for Profit | MARCO Microelectronics Advanced Research Corporation    | Systems on Nanoscale Information fabriCs (SONIC) Center      | ERSO Engineering Research Support Organization              | 5133749      | 2013\n",
       "Basic research | Federal        | DOD Advanced Research Projects Agency                   | Algorithms and Specializers for Provably-optimal Impleme ... | ERSO Engineering Research Support Organization              | 5100000      | 2012\n",
       "... (7246 rows omitted)"
      ]
     },
     "execution_count": 6,
     "metadata": {},
     "output_type": "execute_result"
    }
   ],
   "source": [
    "ds_trends = trends.take(ds_rows)\n",
    "ds_trends"
   ]
  },
  {
   "cell_type": "code",
   "execution_count": 7,
   "metadata": {
    "collapsed": false
   },
   "outputs": [],
   "source": [
    "ds_list = by_dept(ds_trends)\n",
    "for i in np.arange(len(ds_list)):\n",
    "    ds_list[i] = ds_list[i].group('Year', list).apply(sum, 'Grant Amount list')"
   ]
  },
  {
   "cell_type": "code",
   "execution_count": 8,
   "metadata": {
    "collapsed": false
   },
   "outputs": [],
   "source": [
    "ds_trends = ds_trends.groups(['Dept/Division', 'Year'], list)\n",
    "ds_trends.append_column('Grant Amount', ds_trends.apply(sum, 'Grant Amount list'))\n",
    "ds_trends = ds_trends.drop('Grant Amount list')\n",
    "ds_trends = ds_trends.sort('Grant Amount', descending=True)"
   ]
  },
  {
   "cell_type": "code",
   "execution_count": 9,
   "metadata": {
    "collapsed": false
   },
   "outputs": [],
   "source": [
    "trend_counts = trends.group('Dept/Division').relabel('count', 'Grants')\n",
    "ds_trends = ds_trends.with_column('DS Grants', ds_trends.apply(len, 'Title list'))\n",
    "ds_trends = ds_trends.join('Dept/Division', trend_counts)"
   ]
  },
  {
   "cell_type": "code",
   "execution_count": 10,
   "metadata": {
    "collapsed": false
   },
   "outputs": [],
   "source": [
    "# Which deparments have a high ratio of data science oriented grants over others?\n",
    "# Hypothesis: CS, Stats, Quant Bio?\n",
    "\n",
    "avg_ratio_year = []\n",
    "for year in np.arange(1996, 2017):\n",
    "    year_table = trends.where('Year', year)\n",
    "    ds_year_table = ds_trends.where('Year', year)\n",
    "    stats = [np.mean(ds_year_table['DS Grants']/ds_year_table['Grants']),\n",
    "            sum(ds_year_table['Grant Amount'])/sum(year_table['Grant Amount'])]\n",
    "    avg_ratio_year.append(stats)\n",
    "\n",
    "def basic_weighting(grant_amount, ds_grants, grants):\n",
    "    ratio = ds_grants/grants\n",
    "    ratio_weight = 100\n",
    "    num_grants_weight = 1\n",
    "    amount_grants_weight = 1\n",
    "    if grant_amount > 100000:\n",
    "        amount_grants_weight = grant_amount/100000\n",
    "    if ds_grants > 300:\n",
    "        num_grants_weight = ds_grants/300\n",
    "    return ratio*ratio_weight*num_grants_weight*amount_grants_weight\n",
    "\n",
    "def weighting_by_year(grant_amount, ds_grants, grants, year):\n",
    "    ratio_weight = 1\n",
    "    num_grants_weight = 1\n",
    "    amount_grants_weight = 1\n",
    "    num_grants = 1\n",
    "    ratio = (ds_grants/grants)/avg_ratio_year[year-1996][0]\n",
    "    amount_grant = grant_amount/avg_ratio_year[year-1996][1]\n",
    "#     if grant_amount > 100000:\n",
    "#         amount_grants_weight = grant_amount/100000\n",
    "    if ds_grants > 300:\n",
    "        num_grants = ds_grants/300\n",
    "    return ratio*ratio_weight*num_grants*num_grants_weight*amount_grant*amount_grants_weight/(10**6)"
   ]
  },
  {
   "cell_type": "code",
   "execution_count": 11,
   "metadata": {
    "collapsed": false
   },
   "outputs": [
    {
     "data": {
      "text/html": [
       "<table border=\"1\" class=\"dataframe\">\n",
       "    <thead>\n",
       "        <tr>\n",
       "            <th>Dept/Division</th> <th>Year</th> <th>Activity Type list</th> <th>Sponsor Class list</th> <th>Sponsor list</th> <th>Title list</th> <th>Grant Amount</th> <th>DS Grants</th> <th>Grants</th> <th>DS Emphasis</th>\n",
       "        </tr>\n",
       "    </thead>\n",
       "    <tbody>\n",
       "        <tr>\n",
       "            <td>Simons Institute for the Theory of Computing   </td> <td>2012</td> <td>['Basic research', 'Basic research', 'Basic research', ' ...</td> <td>['Not for Profit', 'Not for Profit', 'Not for Profit', ' ...</td> <td>['Simons Foundation', 'Simons Foundation', 'Simons Found ...</td> <td>['Simons Institute for the Theory of Computing', 'Simons ...</td> <td>31500000    </td> <td>4        </td> <td>20    </td> <td>595.036    </td>\n",
       "        </tr>\n",
       "    </tbody>\n",
       "        <tr>\n",
       "            <td>ERSO Engineering Research Support Organization </td> <td>2008</td> <td>['Basic research', 'Basic research', 'Basic research', ' ...</td> <td>['University of California', 'University of California', ...</td> <td>['UC Discovery Grant-Electron Manufacturing & New Materi ...</td> <td>['IMPACT: Integrated Modeling, Process, and Computation  ...</td> <td>47611819    </td> <td>319      </td> <td>6085  </td> <td>502.537    </td>\n",
       "        </tr>\n",
       "    </tbody>\n",
       "        <tr>\n",
       "            <td>EECS Electrical Engineering & Computer Sciences</td> <td>2014</td> <td>['Basic research', 'Basic research', 'Basic research', ' ...</td> <td>['Federal', 'Not for Profit', 'Federal', 'Industry', 'Fe ...</td> <td>['DOD ONR Office of Naval Research', 'Gordon and Betty M ...</td> <td>['Top-Down and Bottom-up Visual Mechanisms at Multiple S ...</td> <td>22096998    </td> <td>73       </td> <td>460   </td> <td>497.527    </td>\n",
       "        </tr>\n",
       "    </tbody>\n",
       "        <tr>\n",
       "            <td>Data Science Institute                         </td> <td>2013</td> <td>['Basic research', 'Basic research', 'Basic research']      </td> <td>['Not for Profit', 'Not for Profit', 'Not for Profit']      </td> <td>['Gordon and Betty Moore Foundation', 'Alfred P. Sloan F ...</td> <td>['Moore/Sloan Data Science Environment', 'Moore/Sloan Da ...</td> <td>11500000    </td> <td>3        </td> <td>8     </td> <td>482.141    </td>\n",
       "        </tr>\n",
       "    </tbody>\n",
       "        <tr>\n",
       "            <td>ERSO Engineering Research Support Organization </td> <td>2007</td> <td>['Basic research', 'Basic research', 'Basic research', ' ...</td> <td>['Industry', 'Industry', 'Federal', 'Industry', 'Industr ...</td> <td>['Microsoft Corporation', 'Intel Corporation', 'DOD ONR  ...</td> <td>['University Parallel Computing Research Center', 'Unive ...</td> <td>35751938    </td> <td>303      </td> <td>6085  </td> <td>408.489    </td>\n",
       "        </tr>\n",
       "    </tbody>\n",
       "        <tr>\n",
       "            <td>ERSO Engineering Research Support Organization </td> <td>2011</td> <td>['Basic research', 'Basic research', 'Basic research', ' ...</td> <td>['Industry', 'Federal', 'Industry', 'Federal', 'Not for  ...</td> <td>['Intel Corporation', 'NSF National Science Foundation', ...</td> <td>[\"SCRUB: Secure Computing Research for Users' Benefit\",  ...</td> <td>42501318    </td> <td>292      </td> <td>6085  </td> <td>286.8      </td>\n",
       "        </tr>\n",
       "    </tbody>\n",
       "        <tr>\n",
       "            <td>ERSO Engineering Research Support Organization </td> <td>2009</td> <td>['Basic research', 'Basic research', 'Basic research', ' ...</td> <td>['Not for Profit', 'Federal', 'Federal', 'Federal', 'Fed ...</td> <td>['MARCO Microelectronics Advanced Research Corporation', ...</td> <td>['Multi-Scale Systems Center', 'Hardware, Languages, and ...</td> <td>53170527    </td> <td>235      </td> <td>6085  </td> <td>273.097    </td>\n",
       "        </tr>\n",
       "    </tbody>\n",
       "        <tr>\n",
       "            <td>ERSO Engineering Research Support Organization </td> <td>2012</td> <td>['Basic research', 'Basic research', 'Basic research', ' ...</td> <td>['Federal', 'Federal', 'Federal', 'Federal', 'Federal',  ...</td> <td>['NSF National Science Foundation', 'DOD Advanced Resear ...</td> <td>['Making Sense at Scale with Algorithms, Machines and Pe ...</td> <td>59994160    </td> <td>241      </td> <td>6085  </td> <td>224.423    </td>\n",
       "        </tr>\n",
       "    </tbody>\n",
       "        <tr>\n",
       "            <td>ERSO Engineering Research Support Organization </td> <td>2010</td> <td>['Basic research', 'Basic research', 'Basic research', ' ...</td> <td>['Federal', 'Federal', 'Federal', 'Federal', 'Federal',  ...</td> <td>['DAF AFOSR Air Force Office of Scientific Research', 'D ...</td> <td>['Optimal Design of Resilient Capacitated Networks', 'TA ...</td> <td>33585644    </td> <td>226      </td> <td>6085  </td> <td>221.421    </td>\n",
       "        </tr>\n",
       "    </tbody>\n",
       "        <tr>\n",
       "            <td>ERSO Engineering Research Support Organization </td> <td>2006</td> <td>['Basic research', 'Basic research', 'Basic research', ' ...</td> <td>['Federal', 'Federal', 'Federal', 'Federal', 'Federal',  ...</td> <td>['DA ARO Army Research Office', 'DOE Department of Energ ...</td> <td>['Heterogeneous Sensor Webs for Autonated Target Recogni ...</td> <td>22145553    </td> <td>236      </td> <td>6085  </td> <td>188.467    </td>\n",
       "        </tr>\n",
       "    </tbody>\n",
       "</table>\n",
       "<p>... (694 rows omitted)</p"
      ],
      "text/plain": [
       "Dept/Division                                   | Year | Activity Type list                                           | Sponsor Class list                                           | Sponsor list                                                 | Title list                                                   | Grant Amount | DS Grants | Grants | DS Emphasis\n",
       "Simons Institute for the Theory of Computing    | 2012 | ['Basic research', 'Basic research', 'Basic research', ' ... | ['Not for Profit', 'Not for Profit', 'Not for Profit', ' ... | ['Simons Foundation', 'Simons Foundation', 'Simons Found ... | ['Simons Institute for the Theory of Computing', 'Simons ... | 31500000     | 4         | 20     | 595.036\n",
       "ERSO Engineering Research Support Organization  | 2008 | ['Basic research', 'Basic research', 'Basic research', ' ... | ['University of California', 'University of California', ... | ['UC Discovery Grant-Electron Manufacturing & New Materi ... | ['IMPACT: Integrated Modeling, Process, and Computation  ... | 47611819     | 319       | 6085   | 502.537\n",
       "EECS Electrical Engineering & Computer Sciences | 2014 | ['Basic research', 'Basic research', 'Basic research', ' ... | ['Federal', 'Not for Profit', 'Federal', 'Industry', 'Fe ... | ['DOD ONR Office of Naval Research', 'Gordon and Betty M ... | ['Top-Down and Bottom-up Visual Mechanisms at Multiple S ... | 22096998     | 73        | 460    | 497.527\n",
       "Data Science Institute                          | 2013 | ['Basic research', 'Basic research', 'Basic research']       | ['Not for Profit', 'Not for Profit', 'Not for Profit']       | ['Gordon and Betty Moore Foundation', 'Alfred P. Sloan F ... | ['Moore/Sloan Data Science Environment', 'Moore/Sloan Da ... | 11500000     | 3         | 8      | 482.141\n",
       "ERSO Engineering Research Support Organization  | 2007 | ['Basic research', 'Basic research', 'Basic research', ' ... | ['Industry', 'Industry', 'Federal', 'Industry', 'Industr ... | ['Microsoft Corporation', 'Intel Corporation', 'DOD ONR  ... | ['University Parallel Computing Research Center', 'Unive ... | 35751938     | 303       | 6085   | 408.489\n",
       "ERSO Engineering Research Support Organization  | 2011 | ['Basic research', 'Basic research', 'Basic research', ' ... | ['Industry', 'Federal', 'Industry', 'Federal', 'Not for  ... | ['Intel Corporation', 'NSF National Science Foundation', ... | [\"SCRUB: Secure Computing Research for Users' Benefit\",  ... | 42501318     | 292       | 6085   | 286.8\n",
       "ERSO Engineering Research Support Organization  | 2009 | ['Basic research', 'Basic research', 'Basic research', ' ... | ['Not for Profit', 'Federal', 'Federal', 'Federal', 'Fed ... | ['MARCO Microelectronics Advanced Research Corporation', ... | ['Multi-Scale Systems Center', 'Hardware, Languages, and ... | 53170527     | 235       | 6085   | 273.097\n",
       "ERSO Engineering Research Support Organization  | 2012 | ['Basic research', 'Basic research', 'Basic research', ' ... | ['Federal', 'Federal', 'Federal', 'Federal', 'Federal',  ... | ['NSF National Science Foundation', 'DOD Advanced Resear ... | ['Making Sense at Scale with Algorithms, Machines and Pe ... | 59994160     | 241       | 6085   | 224.423\n",
       "ERSO Engineering Research Support Organization  | 2010 | ['Basic research', 'Basic research', 'Basic research', ' ... | ['Federal', 'Federal', 'Federal', 'Federal', 'Federal',  ... | ['DAF AFOSR Air Force Office of Scientific Research', 'D ... | ['Optimal Design of Resilient Capacitated Networks', 'TA ... | 33585644     | 226       | 6085   | 221.421\n",
       "ERSO Engineering Research Support Organization  | 2006 | ['Basic research', 'Basic research', 'Basic research', ' ... | ['Federal', 'Federal', 'Federal', 'Federal', 'Federal',  ... | ['DA ARO Army Research Office', 'DOE Department of Energ ... | ['Heterogeneous Sensor Webs for Autonated Target Recogni ... | 22145553     | 236       | 6085   | 188.467\n",
       "... (694 rows omitted)"
      ]
     },
     "execution_count": 11,
     "metadata": {},
     "output_type": "execute_result"
    }
   ],
   "source": [
    "ds_trends = ds_trends.with_column('DS Emphasis', ds_trends.apply(weighting_by_year, \\\n",
    "                                                    ['Grant Amount', 'DS Grants', 'Grants', 'Year']))\n",
    "ds_trends.sort('DS Emphasis', descending=True)"
   ]
  },
  {
   "cell_type": "code",
   "execution_count": 12,
   "metadata": {
    "collapsed": false,
    "scrolled": true
   },
   "outputs": [
    {
     "name": "stdout",
     "output_type": "stream",
     "text": [
      "7% of top 100 funded grants are data-centric\n"
     ]
    }
   ],
   "source": [
    "top_100_grants = trends.sort('Grant Amount', descending=True).take(range(0,100))\n",
    "top_100_grants = top_100_grants.with_column('Grant Ranking', np.arange(1, 101))\n",
    "top_ds_grants = top_100_grants.take(entries_containing_words(top_100_grants, new_words))\n",
    "print(str(top_ds_grants.num_rows) + '% of top 100 funded grants are data-centric')"
   ]
  },
  {
   "cell_type": "code",
   "execution_count": 13,
   "metadata": {
    "collapsed": false
   },
   "outputs": [
    {
     "data": {
      "text/html": [
       "<table border=\"1\" class=\"dataframe\">\n",
       "    <thead>\n",
       "        <tr>\n",
       "            <th>Activity Type</th> <th>Sponsor Class</th> <th>Sponsor</th> <th>Title</th> <th>Dept/Division</th> <th>Grant Amount</th> <th>Year</th> <th>Grant Ranking</th>\n",
       "        </tr>\n",
       "    </thead>\n",
       "    <tbody>\n",
       "        <tr>\n",
       "            <td>Basic research</td> <td>Not for Profit</td> <td>Simons Foundation                                      </td> <td>Simons Institute for the Theory of Computing                </td> <td>Simons Institute for the Theory of Computing               </td> <td>59640000    </td> <td>2012</td> <td>3            </td>\n",
       "        </tr>\n",
       "    </tbody>\n",
       "        <tr>\n",
       "            <td>Basic research</td> <td>Federal       </td> <td>NSF National Science Foundation                        </td> <td>The Center of Integrated Nanomechanical Systems (COINS)  ...</td> <td>BNNI Berkeley Nanoscience & Nanoengineering Institute      </td> <td>11582033    </td> <td>2009</td> <td>44           </td>\n",
       "        </tr>\n",
       "    </tbody>\n",
       "        <tr>\n",
       "            <td>Basic research</td> <td>Federal       </td> <td>NIH National Institute of General Medical Sciences     </td> <td>Center for RNA Systems Biology                              </td> <td>The California Institute for Quantitative Biosciences (QB3)</td> <td>9992931     </td> <td>2012</td> <td>58           </td>\n",
       "        </tr>\n",
       "    </tbody>\n",
       "        <tr>\n",
       "            <td>Basic research</td> <td>Not for Profit</td> <td>Gordon and Betty Moore Foundation                      </td> <td>Moore/Sloan Data Science Environment                        </td> <td>Data Science Institute                                     </td> <td>9990000     </td> <td>2013</td> <td>59           </td>\n",
       "        </tr>\n",
       "    </tbody>\n",
       "        <tr>\n",
       "            <td>Basic research</td> <td>Federal       </td> <td>NSF National Science Foundation                        </td> <td>Making Sense at Scale with Algorithms, Machines and People  </td> <td>ERSO Engineering Research Support Organization             </td> <td>9874991     </td> <td>2012</td> <td>61           </td>\n",
       "        </tr>\n",
       "    </tbody>\n",
       "        <tr>\n",
       "            <td>Basic research</td> <td>Not for Profit</td> <td>MARCO Microelectronics Advanced Research Corporation   </td> <td>Multi-Scale Systems Center                                  </td> <td>ERSO Engineering Research Support Organization             </td> <td>9457500     </td> <td>2009</td> <td>64           </td>\n",
       "        </tr>\n",
       "    </tbody>\n",
       "        <tr>\n",
       "            <td>Basic research</td> <td>Federal       </td> <td>NIH National Institute of Allergy & Infectious Diseases</td> <td>Mouse Models for Understanding Host Responses to Intrace ...</td> <td>MCB Molecular & Cell Biology                               </td> <td>8314457     </td> <td>2006</td> <td>76           </td>\n",
       "        </tr>\n",
       "    </tbody>\n",
       "</table>"
      ],
      "text/plain": [
       "Activity Type  | Sponsor Class  | Sponsor                                                 | Title                                                        | Dept/Division                                               | Grant Amount | Year | Grant Ranking\n",
       "Basic research | Not for Profit | Simons Foundation                                       | Simons Institute for the Theory of Computing                 | Simons Institute for the Theory of Computing                | 59640000     | 2012 | 3\n",
       "Basic research | Federal        | NSF National Science Foundation                         | The Center of Integrated Nanomechanical Systems (COINS)  ... | BNNI Berkeley Nanoscience & Nanoengineering Institute       | 11582033     | 2009 | 44\n",
       "Basic research | Federal        | NIH National Institute of General Medical Sciences      | Center for RNA Systems Biology                               | The California Institute for Quantitative Biosciences (QB3) | 9992931      | 2012 | 58\n",
       "Basic research | Not for Profit | Gordon and Betty Moore Foundation                       | Moore/Sloan Data Science Environment                         | Data Science Institute                                      | 9990000      | 2013 | 59\n",
       "Basic research | Federal        | NSF National Science Foundation                         | Making Sense at Scale with Algorithms, Machines and People   | ERSO Engineering Research Support Organization              | 9874991      | 2012 | 61\n",
       "Basic research | Not for Profit | MARCO Microelectronics Advanced Research Corporation    | Multi-Scale Systems Center                                   | ERSO Engineering Research Support Organization              | 9457500      | 2009 | 64\n",
       "Basic research | Federal        | NIH National Institute of Allergy & Infectious Diseases | Mouse Models for Understanding Host Responses to Intrace ... | MCB Molecular & Cell Biology                                | 8314457      | 2006 | 76"
      ]
     },
     "execution_count": 13,
     "metadata": {},
     "output_type": "execute_result"
    }
   ],
   "source": [
    "top_ds_grants"
   ]
  },
  {
   "cell_type": "code",
   "execution_count": 14,
   "metadata": {
    "collapsed": false
   },
   "outputs": [],
   "source": [
    "unique_div = np.unique(grant_data['Division'])\n",
    "unique_dept_div = list(np.unique(grant_data['Dept/Division']))"
   ]
  },
  {
   "cell_type": "markdown",
   "metadata": {},
   "source": [
    "### Time series analysis of dept/division grant funding"
   ]
  },
  {
   "cell_type": "code",
   "execution_count": 15,
   "metadata": {
    "collapsed": false
   },
   "outputs": [],
   "source": [
    "def plot_dept(table, dept):\n",
    "    table = table.select(['Dept/Division', 'Year', 'Grant Amount'])\n",
    "    table = table.where('Dept/Division', dept)\n",
    "    table = table.drop('Dept/Division').group('Year', sum)\n",
    "    plt.plot(table['Year'], table['Grant Amount sum'])\n",
    "    return table\n",
    "\n",
    "def dept_time_analysis(table, dept1, dept2):\n",
    "    if dept1 != 'None':\n",
    "        plot_dept(table, dept1)\n",
    "    if dept2 != 'None':\n",
    "        plot_dept(table, dept2)"
   ]
  },
  {
   "cell_type": "code",
   "execution_count": 16,
   "metadata": {
    "collapsed": false
   },
   "outputs": [
    {
     "data": {
      "image/png": "[encoded data removed]",
      "text/plain": [
       "<matplotlib.figure.Figure at 0x7f421acd0780>"
      ]
     },
     "metadata": {},
     "output_type": "display_data"
    }
   ],
   "source": [
    "interact(dept_time_analysis, table=fixed(grant_data), dept1=unique_dept_div, dept2=['None']+unique_dept_div)"
   ]
  },
  {
   "cell_type": "markdown",
   "metadata": {},
   "source": [
    "### Time series analysis of types of data-related projects"
   ]
  },
  {
   "cell_type": "code",
   "execution_count": 17,
   "metadata": {
    "collapsed": false
   },
   "outputs": [],
   "source": [
    "def plot_table(table, category):\n",
    "    table = table.select(['Year', category]).group('Year', sum)\n",
    "    plt.plot(table['Year'], table[category + ' sum'])\n",
    "\n",
    "data_unique_dept = ['None'] + list(np.unique(ds_trends['Dept/Division']))"
   ]
  },
  {
   "cell_type": "code",
   "execution_count": 18,
   "metadata": {
    "collapsed": false
   },
   "outputs": [
    {
     "data": {
      "image/png": "[encoded data removed]",
      "text/plain": [
       "<matplotlib.figure.Figure at 0x7f421ad3f0b8>"
      ]
     },
     "metadata": {},
     "output_type": "display_data"
    }
   ],
   "source": [
    "plot_table(ds_trends, 'Grant Amount')"
   ]
  },
  {
   "cell_type": "code",
   "execution_count": 19,
   "metadata": {
    "collapsed": false
   },
   "outputs": [
    {
     "ename": "TypeError",
     "evalue": "with_column() missing 1 required positional argument: 'values'",
     "output_type": "error",
     "traceback": [
      "\u001b[1;31m\u001b[0m",
      "\u001b[1;31mTypeError\u001b[0mTraceback (most recent call last)",
      "\u001b[1;32m<ipython-input-19-7001e5cfe8cb>\u001b[0m in \u001b[0;36m<module>\u001b[1;34m()\u001b[0m\n\u001b[1;32m----> 1\u001b[1;33m \u001b[0mds_trends\u001b[0m\u001b[1;33m.\u001b[0m\u001b[0mwith_column\u001b[0m\u001b[1;33m(\u001b[0m\u001b[1;34m'Normalized Data Grant'\u001b[0m\u001b[1;33m)\u001b[0m\u001b[1;33m\u001b[0m\u001b[0m\n\u001b[0m",
      "\u001b[1;31mTypeError\u001b[0m: with_column() missing 1 required positional argument: 'values'"
     ]
    }
   ],
   "source": [
    "ds_trends.with_column('Normalized Data Grant')"
   ]
  },
  {
   "cell_type": "code",
   "execution_count": null,
   "metadata": {
    "collapsed": false
   },
   "outputs": [],
   "source": [
    "ds_trends.group('Year').show()"
   ]
  }
 ],
 "metadata": {
  "kernelspec": {
   "display_name": "Python 3",
   "language": "python",
   "name": "python3"
  },
  "language_info": {
   "codemirror_mode": {
    "name": "ipython",
    "version": 3
   },
   "file_extension": ".py",
   "mimetype": "text/x-python",
   "name": "python",
   "nbconvert_exporter": "python",
   "pygments_lexer": "ipython3",
   "version": "3.5.1"
  }
 },
 "nbformat": 4,
 "nbformat_minor": 0
}
