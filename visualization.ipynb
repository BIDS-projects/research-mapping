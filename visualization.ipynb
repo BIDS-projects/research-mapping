{
 "cells": [
  {
   "cell_type": "markdown",
   "metadata": {
    "collapsed": true
   },
   "source": [
    "## Visualization of Recent Research Trend\n",
    "\n",
    "The research_grant_history dataset contains historical grants information of all Berkeley research taken place from 1987 to 2016. The information includes activity type, sponsor class, fund amount, department, project information, PI, etc. Our goal is to visualize the trend of recent ten years' research. The component that we look at includes:\n",
    "\n",
    "- which department gets most funding? what projects do they conduct?\n",
    "- what are the largest funding source of these research? \n",
    "- which type of research gets most funding?\n",
    "- who are supervising funds (popular PIs)\n"
   ]
  },
  {
   "cell_type": "code",
   "execution_count": 5,
   "metadata": {
    "collapsed": true
   },
   "outputs": [],
   "source": [
    "import matplotlib\n",
    "%matplotlib inline\n",
    "import matplotlib.pyplot as plt\n",
    "plt.style.use('fivethirtyeight')\n",
    "import pandas as pd\n",
    "\n",
    "from datascience import *\n",
    "import numpy as np\n",
    "\n",
    "import locale\n",
    "import re\n",
    "import csv"
   ]
  },
  {
   "cell_type": "markdown",
   "metadata": {},
   "source": [
    "### By department data\n",
    "\n",
    "Based on previous work on data cleaning and exploration, we create two datasets: by_dept_funding.csv and by_dept_activity.csv. Both datasets group data by department and respectively show funding info. and reseach type info. for each department. They are sorted by grant amount."
   ]
  },
  {
   "cell_type": "code",
   "execution_count": 9,
   "metadata": {
    "collapsed": false
   },
   "outputs": [
    {
     "data": {
      "text/html": [
       "<div>\n",
       "<table border=\"1\" class=\"dataframe\">\n",
       "  <thead>\n",
       "    <tr style=\"text-align: right;\">\n",
       "      <th></th>\n",
       "      <th>Dept/Division</th>\n",
       "      <th>Grant Amount</th>\n",
       "      <th>Federal</th>\n",
       "      <th>State of California</th>\n",
       "      <th>Non Profit</th>\n",
       "      <th>University of California</th>\n",
       "      <th>Other</th>\n",
       "    </tr>\n",
       "  </thead>\n",
       "  <tbody>\n",
       "    <tr>\n",
       "      <th>0</th>\n",
       "      <td>ERSO Engineering Research Support Organization</td>\n",
       "      <td>$1,024,039,099</td>\n",
       "      <td>3808</td>\n",
       "      <td>192</td>\n",
       "      <td>614</td>\n",
       "      <td>344</td>\n",
       "      <td>1127</td>\n",
       "    </tr>\n",
       "    <tr>\n",
       "      <th>1</th>\n",
       "      <td>SSL Space Sciences Lab</td>\n",
       "      <td>$551,464,465</td>\n",
       "      <td>1969</td>\n",
       "      <td>0</td>\n",
       "      <td>105</td>\n",
       "      <td>2</td>\n",
       "      <td>35</td>\n",
       "    </tr>\n",
       "    <tr>\n",
       "      <th>2</th>\n",
       "      <td>MCB Molecular &amp; Cell Biology</td>\n",
       "      <td>$438,743,186</td>\n",
       "      <td>1404</td>\n",
       "      <td>14</td>\n",
       "      <td>1262</td>\n",
       "      <td>44</td>\n",
       "      <td>155</td>\n",
       "    </tr>\n",
       "  </tbody>\n",
       "</table>\n",
       "</div>"
      ],
      "text/plain": [
       "                                    Dept/Division     Grant Amount  Federal  \\\n",
       "0  ERSO Engineering Research Support Organization  $1,024,039,099      3808   \n",
       "1                          SSL Space Sciences Lab    $551,464,465      1969   \n",
       "2                    MCB Molecular & Cell Biology    $438,743,186      1404   \n",
       "\n",
       "   State of California  Non Profit  University of California  Other  \n",
       "0                  192         614                       344   1127  \n",
       "1                    0         105                         2     35  \n",
       "2                   14        1262                        44    155  "
      ]
     },
     "execution_count": 9,
     "metadata": {},
     "output_type": "execute_result"
    }
   ],
   "source": [
    "by_dept_funding = pd.read_csv('by_dept_funding.csv')\n",
    "by_dept_activity = pd.read_csv('by_dept_activity.csv')\n",
    "by_dept_funding.head(3)"
   ]
  },
  {
   "cell_type": "code",
   "execution_count": 10,
   "metadata": {
    "collapsed": false
   },
   "outputs": [
    {
     "data": {
      "text/html": [
       "<div>\n",
       "<table border=\"1\" class=\"dataframe\">\n",
       "  <thead>\n",
       "    <tr style=\"text-align: right;\">\n",
       "      <th></th>\n",
       "      <th>Dept/Division</th>\n",
       "      <th>Grant Amount</th>\n",
       "      <th>Applied Research</th>\n",
       "      <th>Basic Research</th>\n",
       "      <th>Training</th>\n",
       "      <th>Instruction</th>\n",
       "      <th>Services</th>\n",
       "      <th>Other</th>\n",
       "      <th>Total</th>\n",
       "    </tr>\n",
       "  </thead>\n",
       "  <tbody>\n",
       "    <tr>\n",
       "      <th>0</th>\n",
       "      <td>ERSO Engineering Research Support Organization</td>\n",
       "      <td>$1,024,039,099</td>\n",
       "      <td>282</td>\n",
       "      <td>5242</td>\n",
       "      <td>26</td>\n",
       "      <td>8</td>\n",
       "      <td>6</td>\n",
       "      <td>521</td>\n",
       "      <td>6085</td>\n",
       "    </tr>\n",
       "    <tr>\n",
       "      <th>1</th>\n",
       "      <td>SSL Space Sciences Lab</td>\n",
       "      <td>$551,464,465</td>\n",
       "      <td>108</td>\n",
       "      <td>1769</td>\n",
       "      <td>2</td>\n",
       "      <td>0</td>\n",
       "      <td>110</td>\n",
       "      <td>122</td>\n",
       "      <td>2111</td>\n",
       "    </tr>\n",
       "    <tr>\n",
       "      <th>2</th>\n",
       "      <td>MCB Molecular &amp; Cell Biology</td>\n",
       "      <td>$438,743,186</td>\n",
       "      <td>24</td>\n",
       "      <td>2748</td>\n",
       "      <td>62</td>\n",
       "      <td>0</td>\n",
       "      <td>1</td>\n",
       "      <td>44</td>\n",
       "      <td>2879</td>\n",
       "    </tr>\n",
       "  </tbody>\n",
       "</table>\n",
       "</div>"
      ],
      "text/plain": [
       "                                    Dept/Division    Grant Amount  \\\n",
       "0  ERSO Engineering Research Support Organization  $1,024,039,099   \n",
       "1                          SSL Space Sciences Lab    $551,464,465   \n",
       "2                    MCB Molecular & Cell Biology    $438,743,186   \n",
       "\n",
       "   Applied Research  Basic Research  Training  Instruction  Services  Other  \\\n",
       "0               282            5242        26            8         6    521   \n",
       "1               108            1769         2            0       110    122   \n",
       "2                24            2748        62            0         1     44   \n",
       "\n",
       "   Total  \n",
       "0   6085  \n",
       "1   2111  \n",
       "2   2879  "
      ]
     },
     "execution_count": 10,
     "metadata": {},
     "output_type": "execute_result"
    }
   ],
   "source": [
    "by_dept_activity.head(3)"
   ]
  },
  {
   "cell_type": "code",
   "execution_count": 11,
   "metadata": {
    "collapsed": false
   },
   "outputs": [
    {
     "data": {
      "text/html": [
       "<div>\n",
       "<table border=\"1\" class=\"dataframe\">\n",
       "  <thead>\n",
       "    <tr style=\"text-align: right;\">\n",
       "      <th></th>\n",
       "      <th>Dept/Division</th>\n",
       "      <th>Grant Amount</th>\n",
       "      <th>Federal</th>\n",
       "      <th>State of California</th>\n",
       "      <th>Non Profit</th>\n",
       "      <th>University of California</th>\n",
       "      <th>Other</th>\n",
       "      <th>num_of_sponsors</th>\n",
       "      <th>num_of_research</th>\n",
       "    </tr>\n",
       "  </thead>\n",
       "  <tbody>\n",
       "    <tr>\n",
       "      <th>0</th>\n",
       "      <td>ERSO Engineering Research Support Organization</td>\n",
       "      <td>$1,024,039,099</td>\n",
       "      <td>3808</td>\n",
       "      <td>192</td>\n",
       "      <td>614</td>\n",
       "      <td>344</td>\n",
       "      <td>1127</td>\n",
       "      <td>6085</td>\n",
       "      <td>6085</td>\n",
       "    </tr>\n",
       "    <tr>\n",
       "      <th>1</th>\n",
       "      <td>SSL Space Sciences Lab</td>\n",
       "      <td>$551,464,465</td>\n",
       "      <td>1969</td>\n",
       "      <td>0</td>\n",
       "      <td>105</td>\n",
       "      <td>2</td>\n",
       "      <td>35</td>\n",
       "      <td>2111</td>\n",
       "      <td>2111</td>\n",
       "    </tr>\n",
       "    <tr>\n",
       "      <th>2</th>\n",
       "      <td>MCB Molecular &amp; Cell Biology</td>\n",
       "      <td>$438,743,186</td>\n",
       "      <td>1404</td>\n",
       "      <td>14</td>\n",
       "      <td>1262</td>\n",
       "      <td>44</td>\n",
       "      <td>155</td>\n",
       "      <td>2879</td>\n",
       "      <td>2879</td>\n",
       "    </tr>\n",
       "  </tbody>\n",
       "</table>\n",
       "</div>"
      ],
      "text/plain": [
       "                                    Dept/Division     Grant Amount  Federal  \\\n",
       "0  ERSO Engineering Research Support Organization  $1,024,039,099      3808   \n",
       "1                          SSL Space Sciences Lab    $551,464,465      1969   \n",
       "2                    MCB Molecular & Cell Biology    $438,743,186      1404   \n",
       "\n",
       "   State of California  Non Profit  University of California  Other  \\\n",
       "0                  192         614                       344   1127   \n",
       "1                    0         105                         2     35   \n",
       "2                   14        1262                        44    155   \n",
       "\n",
       "   num_of_sponsors  num_of_research  \n",
       "0             6085             6085  \n",
       "1             2111             2111  \n",
       "2             2879             2879  "
      ]
     },
     "execution_count": 11,
     "metadata": {},
     "output_type": "execute_result"
    }
   ],
   "source": [
    "## Add total number of sponsors and research\n",
    "by_dept_funding['num_of_sponsors'] = by_dept_funding['Federal'] + by_dept_funding['State of California'] + by_dept_funding['Non Profit'] + by_dept_funding['University of California'] + by_dept_funding['Other']\n",
    "by_dept_funding['num_of_research'] = by_dept_activity['Total']\n",
    "by_dept_funding.head(3)"
   ]
  },
  {
   "cell_type": "markdown",
   "metadata": {},
   "source": [
    "### Bubble chart\n",
    "\n",
    "We create the bubble chart using plot.ly. Each bubble represents a department, the size represents the number of research from that department, and the distance from origin represents the amount of fundings.\n",
    "\n",
    "The top four organizations that recieve most fundings: ERSO Engineering, SSL Space Lab, MCB Molecular & Cell, and California Institute for Qualitative Biosciences."
   ]
  },
  {
   "cell_type": "code",
   "execution_count": 6,
   "metadata": {
    "collapsed": false
   },
   "outputs": [
    {
     "data": {
      "text/html": [
       "<iframe id=\"igraph\" scrolling=\"no\" style=\"border:none;\" seamless=\"seamless\" src=\"https://plot.ly/~jzljohn18/3.embed\" height=\"525px\" width=\"100%\"></iframe>"
      ],
      "text/plain": [
       "<plotly.tools.PlotlyDisplay object>"
      ]
     },
     "execution_count": 6,
     "metadata": {},
     "output_type": "execute_result"
    }
   ],
   "source": [
    "import plotly.plotly as py\n",
    "import cufflinks as cf\n",
    "import pandas as pd\n",
    "\n",
    "cf.set_config_file(offline=False, world_readable=True, theme='pearl')\n",
    "\n",
    "by_dept_funding.iplot(kind='bubble', x='Grant Amount', y='num_of_research', size = 'num_of_sponsors',text='Dept/Division',\n",
    "             xTitle='Funding Recieved', yTitle='Number of Research',\n",
    "             filename='simple-bubble-chart2')"
   ]
  },
  {
   "cell_type": "markdown",
   "metadata": {},
   "source": [
    "### Type of research\n",
    "The number of different types of research over time. "
   ]
  },
  {
   "cell_type": "code",
   "execution_count": 84,
   "metadata": {
    "collapsed": false
   },
   "outputs": [
    {
     "data": {
      "image/png": "[encoded data removed]",
      "text/plain": [
       "<matplotlib.figure.Figure at 0x1180f2fd0>"
      ]
     },
     "metadata": {},
     "output_type": "display_data"
    }
   ],
   "source": [
    "cleaned_research = pd.read_csv('cleaned_research_spo_data.csv')\n",
    "a = cleaned_research['Grant Amount'].groupby([cleaned_research['Activity Type'], cleaned_research['Year']]).sum()\n",
    "\n",
    "plt.figure()\n",
    "plt.plot(a['Applied research'], label = 'Applied Research')\n",
    "plt.plot(a['Basic research'], label = 'Basic research')\n",
    "plt.plot(a['Services'], label = 'Services')\n",
    "plt.plot(a['Training'], label = 'Training')\n",
    "plt.legend(loc=2,prop={'size':10})\n",
    "plt.show()"
   ]
  },
  {
   "cell_type": "markdown",
   "metadata": {},
   "source": [
    "## Visualization with Ipython widget \n",
    "### Funding source analysis\n",
    "With the drop-down list, we can visualize the funding source by department. For example, federal funding accounts for the greatest percentage in funding ERSO Engineering. \n"
   ]
  },
  {
   "cell_type": "code",
   "execution_count": 12,
   "metadata": {
    "collapsed": false
   },
   "outputs": [],
   "source": [
    "from ipywidgets import interact, interactive, fixed\n",
    "import ipywidgets as widgets\n"
   ]
  },
  {
   "cell_type": "code",
   "execution_count": 33,
   "metadata": {
    "collapsed": false
   },
   "outputs": [
    {
     "data": {
      "image/png": "[encoded data removed]",
      "text/plain": [
       "<matplotlib.figure.Figure at 0x1180b17f0>"
      ]
     },
     "metadata": {},
     "output_type": "display_data"
    }
   ],
   "source": [
    "# ERSO Engineering Research Lab\n",
    "# funding source count\n",
    "# apply ipywidget\n",
    "\n",
    "def plot_funding(dept):\n",
    "    x = by_dept_funding.loc[by_dept_funding['Dept/Division'] == dept,['Federal', 'State of California', 'Non Profit', 'University of California', 'Other']].values.flatten().tolist()\n",
    "    y = [1,2,3,4,5] \n",
    "\n",
    "    LABELS = ['Federal', 'State of California', 'Non Profit', 'University of California', 'Other'] \n",
    "    plt.barh(y, x, align = 'center')\n",
    "    plt.yticks(y, LABELS)\n",
    "\n",
    "    plt.show()\n",
    "\n",
    "plot_funding('ERSO Engineering Research Support Organization')"
   ]
  },
  {
   "cell_type": "markdown",
   "metadata": {},
   "source": [
    "### Top funding projects \n",
    "\n",
    "We could also see the most popular projects i.e, the ones that recieve most fundings within each department. Further text analysis could be conducted to investigate the trend in research topics. "
   ]
  },
  {
   "cell_type": "code",
   "execution_count": 46,
   "metadata": {
    "collapsed": false
   },
   "outputs": [
    {
     "data": {
      "text/html": [
       "<div>\n",
       "<table border=\"1\" class=\"dataframe\">\n",
       "  <thead>\n",
       "    <tr style=\"text-align: right;\">\n",
       "      <th></th>\n",
       "      <th>Department</th>\n",
       "      <th>Amount</th>\n",
       "      <th>Title</th>\n",
       "      <th>Activity Type</th>\n",
       "      <th>Project Begin Date</th>\n",
       "      <th>Project End Date</th>\n",
       "    </tr>\n",
       "  </thead>\n",
       "  <tbody>\n",
       "    <tr>\n",
       "      <th>9</th>\n",
       "      <td>ERSO Engineering Research Support Organization</td>\n",
       "      <td>$27,573,125</td>\n",
       "      <td>The TerraSwarm Research Center</td>\n",
       "      <td>Basic research</td>\n",
       "      <td>1/15/2013</td>\n",
       "      <td>10/31/2017</td>\n",
       "    </tr>\n",
       "    <tr>\n",
       "      <th>15</th>\n",
       "      <td>ERSO Engineering Research Support Organization</td>\n",
       "      <td>$24,930,000</td>\n",
       "      <td>Center for Energy Efficient Electronics Scienc...</td>\n",
       "      <td>Basic research</td>\n",
       "      <td>9/15/2010</td>\n",
       "      <td>8/31/2015</td>\n",
       "    </tr>\n",
       "    <tr>\n",
       "      <th>16</th>\n",
       "      <td>ERSO Engineering Research Support Organization</td>\n",
       "      <td>$24,900,000</td>\n",
       "      <td>Nuclear Science and Security Consortium (NSSC)</td>\n",
       "      <td>Basic research</td>\n",
       "      <td>7/1/2011</td>\n",
       "      <td>6/30/2016</td>\n",
       "    </tr>\n",
       "    <tr>\n",
       "      <th>22</th>\n",
       "      <td>ERSO Engineering Research Support Organization</td>\n",
       "      <td>$20,000,000</td>\n",
       "      <td>Development Innovations Lab (DIL)</td>\n",
       "      <td>Basic research</td>\n",
       "      <td>9/12/2012</td>\n",
       "      <td>9/30/2017</td>\n",
       "    </tr>\n",
       "    <tr>\n",
       "      <th>23</th>\n",
       "      <td>ERSO Engineering Research Support Organization</td>\n",
       "      <td>$17,658,208</td>\n",
       "      <td>NSEC: Center for Scalable and Integrated Nanom...</td>\n",
       "      <td>Basic research</td>\n",
       "      <td>10/1/2008</td>\n",
       "      <td>9/30/2013</td>\n",
       "    </tr>\n",
       "    <tr>\n",
       "      <th>32</th>\n",
       "      <td>ERSO Engineering Research Support Organization</td>\n",
       "      <td>$14,971,306</td>\n",
       "      <td>Research and Innovation for Traffic Operations</td>\n",
       "      <td>Basic research</td>\n",
       "      <td>7/21/2011</td>\n",
       "      <td>6/30/2014</td>\n",
       "    </tr>\n",
       "    <tr>\n",
       "      <th>60</th>\n",
       "      <td>ERSO Engineering Research Support Organization</td>\n",
       "      <td>$9,874,991</td>\n",
       "      <td>Making Sense at Scale with Algorithms, Machine...</td>\n",
       "      <td>Basic research</td>\n",
       "      <td>4/1/2012</td>\n",
       "      <td>3/31/2017</td>\n",
       "    </tr>\n",
       "    <tr>\n",
       "      <th>63</th>\n",
       "      <td>ERSO Engineering Research Support Organization</td>\n",
       "      <td>$9,457,500</td>\n",
       "      <td>Multi-Scale Systems Center</td>\n",
       "      <td>Basic research</td>\n",
       "      <td>11/1/2009</td>\n",
       "      <td>10/31/2012</td>\n",
       "    </tr>\n",
       "    <tr>\n",
       "      <th>64</th>\n",
       "      <td>ERSO Engineering Research Support Organization</td>\n",
       "      <td>$9,334,982</td>\n",
       "      <td>Center for Scalable Integrated Nano Manufactur...</td>\n",
       "      <td>Basic research</td>\n",
       "      <td>10/1/2003</td>\n",
       "      <td>9/30/2008</td>\n",
       "    </tr>\n",
       "    <tr>\n",
       "      <th>68</th>\n",
       "      <td>ERSO Engineering Research Support Organization</td>\n",
       "      <td>$8,953,000</td>\n",
       "      <td>Development Innovations Lab (DIL)</td>\n",
       "      <td>Basic research</td>\n",
       "      <td>9/12/2012</td>\n",
       "      <td>9/30/2017</td>\n",
       "    </tr>\n",
       "  </tbody>\n",
       "</table>\n",
       "</div>"
      ],
      "text/plain": [
       "                                        Department        Amount  \\\n",
       "9   ERSO Engineering Research Support Organization  $27,573,125    \n",
       "15  ERSO Engineering Research Support Organization  $24,930,000    \n",
       "16  ERSO Engineering Research Support Organization  $24,900,000    \n",
       "22  ERSO Engineering Research Support Organization  $20,000,000    \n",
       "23  ERSO Engineering Research Support Organization  $17,658,208    \n",
       "32  ERSO Engineering Research Support Organization  $14,971,306    \n",
       "60  ERSO Engineering Research Support Organization   $9,874,991    \n",
       "63  ERSO Engineering Research Support Organization   $9,457,500    \n",
       "64  ERSO Engineering Research Support Organization   $9,334,982    \n",
       "68  ERSO Engineering Research Support Organization   $8,953,000    \n",
       "\n",
       "                                                Title   Activity Type  \\\n",
       "9                      The TerraSwarm Research Center  Basic research   \n",
       "15  Center for Energy Efficient Electronics Scienc...  Basic research   \n",
       "16     Nuclear Science and Security Consortium (NSSC)  Basic research   \n",
       "22                  Development Innovations Lab (DIL)  Basic research   \n",
       "23  NSEC: Center for Scalable and Integrated Nanom...  Basic research   \n",
       "32     Research and Innovation for Traffic Operations  Basic research   \n",
       "60  Making Sense at Scale with Algorithms, Machine...  Basic research   \n",
       "63                         Multi-Scale Systems Center  Basic research   \n",
       "64  Center for Scalable Integrated Nano Manufactur...  Basic research   \n",
       "68                  Development Innovations Lab (DIL)  Basic research   \n",
       "\n",
       "   Project Begin Date Project End Date  \n",
       "9           1/15/2013       10/31/2017  \n",
       "15          9/15/2010        8/31/2015  \n",
       "16           7/1/2011        6/30/2016  \n",
       "22          9/12/2012        9/30/2017  \n",
       "23          10/1/2008        9/30/2013  \n",
       "32          7/21/2011        6/30/2014  \n",
       "60           4/1/2012        3/31/2017  \n",
       "63          11/1/2009       10/31/2012  \n",
       "64          10/1/2003        9/30/2008  \n",
       "68          9/12/2012        9/30/2017  "
      ]
     },
     "execution_count": 46,
     "metadata": {},
     "output_type": "execute_result"
    }
   ],
   "source": [
    "# what ERSO project recieves top funding (or in each department)\n",
    "\n",
    "clean_grant = pd.read_csv('cleaned_research_spo_data.csv') # the dataset has been sorted by grant amount\n",
    "def top_project(data, dept, n):\n",
    "    by_dept = data.loc[data['Dept/Division'] == dept, ] \n",
    "    return by_dept[['Department', 'Amount', 'Title', 'Activity Type','Project Begin Date', 'Project End Date']].head(n)\n",
    "\n",
    "top_project(clean_grant, 'ERSO Engineering Research Support Organization', 10)"
   ]
  }
 ],
 "metadata": {
  "kernelspec": {
   "display_name": "Python 3",
   "language": "python",
   "name": "python3"
  },
  "language_info": {
   "codemirror_mode": {
    "name": "ipython",
    "version": 3
   },
   "file_extension": ".py",
   "mimetype": "text/x-python",
   "name": "python",
   "nbconvert_exporter": "python",
   "pygments_lexer": "ipython3",
   "version": "3.5.1"
  }
 },
 "nbformat": 4,
 "nbformat_minor": 0
}
