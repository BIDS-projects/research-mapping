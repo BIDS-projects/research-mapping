{
 "cells": [
  {
   "cell_type": "code",
   "execution_count": 9,
   "metadata": {
    "collapsed": true
   },
   "outputs": [],
   "source": [
    "import matplotlib\n",
    "%matplotlib inline\n",
    "import matplotlib.pyplot as plt\n",
    "plt.style.use('fivethirtyeight')\n",
    "\n",
    "from datascience import *\n",
    "import numpy as np\n",
    "\n",
    "import locale\n",
    "import re\n",
    "import csv"
   ]
  },
  {
   "cell_type": "code",
   "execution_count": 10,
   "metadata": {
    "collapsed": false
   },
   "outputs": [
    {
     "data": {
      "text/html": [
       "<table border=\"1\" class=\"dataframe\">\n",
       "    <thead>\n",
       "        <tr>\n",
       "            <th>Activity Type</th> <th>Amount</th> <th>Sponsor Class</th> <th>Sponsor</th> <th>Division</th> <th>Department</th> <th>Fund</th> <th>UCB Award Number</th> <th>PI Name</th> <th>Project Begin Date</th> <th>Project End Date</th> <th>Title</th> <th>Dept/Division</th> <th>Grant Amount</th> <th>Year</th>\n",
       "        </tr>\n",
       "    </thead>\n",
       "    <tbody>\n",
       "        <tr>\n",
       "            <td>Basic research</td> <td>$346,371,180 </td> <td>Industry           </td> <td>BP Group (BP America, BP Exploration, British Petroleum)    </td> <td>Vice Chancellor for Research ORUs</td> <td>nan                                                    </td> <td>86016</td> <td>022711-002      </td> <td>Fleming, Graham R  </td> <td>7/1/2007          </td> <td>6/30/2017       </td> <td>Energy Biosciences Institute                                </td> <td>Vice Chancellor for Research ORUs                      </td> <td>346371180   </td> <td>2007</td>\n",
       "        </tr>\n",
       "    </tbody>\n",
       "        <tr>\n",
       "            <td>Basic research</td> <td>$132,635,047 </td> <td>Federal            </td> <td>NASA National Aeronautics and Space Administration Godda ...</td> <td>Vice Chancellor for Research ORUs</td> <td>SSL Space Sciences Lab                                 </td> <td>27174</td> <td>032139-002      </td> <td>Immel, Thomas      </td> <td>1/11/2012         </td> <td>2/28/2020       </td> <td>The Ionospheric CONnection Explorer (ICON) Phases B-F       </td> <td>SSL Space Sciences Lab                                 </td> <td>132635047   </td> <td>2012</td>\n",
       "        </tr>\n",
       "    </tbody>\n",
       "        <tr>\n",
       "            <td>Basic research</td> <td>$59,640,000  </td> <td>Not for Profit     </td> <td>Simons Foundation                                           </td> <td>VC Res Other Research Units      </td> <td>Simons Institute for the Theory of Computing           </td> <td>95650</td> <td>033018-002      </td> <td>Karp, Richard M    </td> <td>7/1/2012          </td> <td>6/30/2022       </td> <td>Simons Institute for the Theory of Computing                </td> <td>Simons Institute for the Theory of Computing           </td> <td>59640000    </td> <td>2012</td>\n",
       "        </tr>\n",
       "    </tbody>\n",
       "        <tr>\n",
       "            <td>Instruction   </td> <td>$32,745,069  </td> <td>State of California</td> <td>California Department of Social Services                    </td> <td>School of Social Welfare         </td> <td>nan                                                    </td> <td>77954</td> <td>029530-002      </td> <td>Midanik, Lorraine T</td> <td>7/1/2010          </td> <td>6/30/2011       </td> <td>Title IV-E Social Work Training Program                     </td> <td>Social Welfare                                         </td> <td>32745069    </td> <td>2010</td>\n",
       "        </tr>\n",
       "    </tbody>\n",
       "        <tr>\n",
       "            <td>Instruction   </td> <td>$32,587,458  </td> <td>State of California</td> <td>California Department of Social Services                    </td> <td>School of Social Welfare         </td> <td>Social Welfare                                         </td> <td>84402</td> <td>033267-002      </td> <td>Edleson, Jeffrey L </td> <td>7/1/2012          </td> <td>6/30/2013       </td> <td>Title IV-E Social Work Training Program                     </td> <td>Social Welfare                                         </td> <td>32587458    </td> <td>2012</td>\n",
       "        </tr>\n",
       "    </tbody>\n",
       "        <tr>\n",
       "            <td>Instruction   </td> <td>$32,463,656  </td> <td>State of California</td> <td>California Department of Social Services                    </td> <td>School of Social Welfare         </td> <td>Social Welfare                                         </td> <td>96762</td> <td>031469-002      </td> <td>Davis, Sam         </td> <td>7/1/2011          </td> <td>6/30/2012       </td> <td>Title IV-E Social Work Training Progam                      </td> <td>Social Welfare                                         </td> <td>32463656    </td> <td>2011</td>\n",
       "        </tr>\n",
       "    </tbody>\n",
       "        <tr>\n",
       "            <td>Instruction   </td> <td>$30,752,572  </td> <td>State of California</td> <td>California Department of Social Services                    </td> <td>School of Social Welfare         </td> <td>nan                                                    </td> <td>15345</td> <td>027256-002      </td> <td>Midanik, Lorraine T</td> <td>7/1/2009          </td> <td>6/30/2010       </td> <td>Title IV-E Social Work Training Program                     </td> <td>Social Welfare                                         </td> <td>30752572    </td> <td>2009</td>\n",
       "        </tr>\n",
       "    </tbody>\n",
       "        <tr>\n",
       "            <td>Basic research</td> <td>$29,092,000  </td> <td>Federal            </td> <td>NSF National Science Foundation                             </td> <td>VC Res Other Research Units      </td> <td>DUSEL Deep Underground Science & Engineering Laboratory</td> <td>30035</td> <td>028649-002      </td> <td>Lesko, Kevin       </td> <td>10/1/2009         </td> <td>9/30/2011       </td> <td>Developing the Preliminary Design for the Deep Undergrou ...</td> <td>DUSEL Deep Underground Science & Engineering Laboratory</td> <td>29092000    </td> <td>2009</td>\n",
       "        </tr>\n",
       "    </tbody>\n",
       "        <tr>\n",
       "            <td>Instruction   </td> <td>$28,986,867  </td> <td>State of California</td> <td>California Department of Social Services                    </td> <td>School of Social Welfare         </td> <td>Social Welfare                                         </td> <td>77730</td> <td>025069-002      </td> <td>Midanik, Lorraine T</td> <td>7/1/2008          </td> <td>6/30/2009       </td> <td>Title IVE Social Work Training Program                      </td> <td>Social Welfare                                         </td> <td>28986867    </td> <td>2008</td>\n",
       "        </tr>\n",
       "    </tbody>\n",
       "        <tr>\n",
       "            <td>Basic research</td> <td>$27,573,125  </td> <td>Not for Profit     </td> <td>MARCO Microelectronics Advanced Research Corporation        </td> <td>College of Engineering           </td> <td>ERSO Engineering Research Support Organization         </td> <td>85550</td> <td>034206-002      </td> <td>Lee, Edward A      </td> <td>1/15/2013         </td> <td>10/31/2017      </td> <td>The TerraSwarm Research Center                              </td> <td>ERSO Engineering Research Support Organization         </td> <td>27573125    </td> <td>2013</td>\n",
       "        </tr>\n",
       "    </tbody>\n",
       "</table>\n",
       "<p>... (39812 rows omitted)</p"
      ],
      "text/plain": [
       "Activity Type  | Amount        | Sponsor Class       | Sponsor                                                      | Division                          | Department                                              | Fund  | UCB Award Number | PI Name             | Project Begin Date | Project End Date | Title                                                        | Dept/Division                                           | Grant Amount | Year\n",
       "Basic research | $346,371,180  | Industry            | BP Group (BP America, BP Exploration, British Petroleum)     | Vice Chancellor for Research ORUs | nan                                                     | 86016 | 022711-002       | Fleming, Graham R   | 7/1/2007           | 6/30/2017        | Energy Biosciences Institute                                 | Vice Chancellor for Research ORUs                       | 346371180    | 2007\n",
       "Basic research | $132,635,047  | Federal             | NASA National Aeronautics and Space Administration Godda ... | Vice Chancellor for Research ORUs | SSL Space Sciences Lab                                  | 27174 | 032139-002       | Immel, Thomas       | 1/11/2012          | 2/28/2020        | The Ionospheric CONnection Explorer (ICON) Phases B-F        | SSL Space Sciences Lab                                  | 132635047    | 2012\n",
       "Basic research | $59,640,000   | Not for Profit      | Simons Foundation                                            | VC Res Other Research Units       | Simons Institute for the Theory of Computing            | 95650 | 033018-002       | Karp, Richard M     | 7/1/2012           | 6/30/2022        | Simons Institute for the Theory of Computing                 | Simons Institute for the Theory of Computing            | 59640000     | 2012\n",
       "Instruction    | $32,745,069   | State of California | California Department of Social Services                     | School of Social Welfare          | nan                                                     | 77954 | 029530-002       | Midanik, Lorraine T | 7/1/2010           | 6/30/2011        | Title IV-E Social Work Training Program                      | Social Welfare                                          | 32745069     | 2010\n",
       "Instruction    | $32,587,458   | State of California | California Department of Social Services                     | School of Social Welfare          | Social Welfare                                          | 84402 | 033267-002       | Edleson, Jeffrey L  | 7/1/2012           | 6/30/2013        | Title IV-E Social Work Training Program                      | Social Welfare                                          | 32587458     | 2012\n",
       "Instruction    | $32,463,656   | State of California | California Department of Social Services                     | School of Social Welfare          | Social Welfare                                          | 96762 | 031469-002       | Davis, Sam          | 7/1/2011           | 6/30/2012        | Title IV-E Social Work Training Progam                       | Social Welfare                                          | 32463656     | 2011\n",
       "Instruction    | $30,752,572   | State of California | California Department of Social Services                     | School of Social Welfare          | nan                                                     | 15345 | 027256-002       | Midanik, Lorraine T | 7/1/2009           | 6/30/2010        | Title IV-E Social Work Training Program                      | Social Welfare                                          | 30752572     | 2009\n",
       "Basic research | $29,092,000   | Federal             | NSF National Science Foundation                              | VC Res Other Research Units       | DUSEL Deep Underground Science & Engineering Laboratory | 30035 | 028649-002       | Lesko, Kevin        | 10/1/2009          | 9/30/2011        | Developing the Preliminary Design for the Deep Undergrou ... | DUSEL Deep Underground Science & Engineering Laboratory | 29092000     | 2009\n",
       "Instruction    | $28,986,867   | State of California | California Department of Social Services                     | School of Social Welfare          | Social Welfare                                          | 77730 | 025069-002       | Midanik, Lorraine T | 7/1/2008           | 6/30/2009        | Title IVE Social Work Training Program                       | Social Welfare                                          | 28986867     | 2008\n",
       "Basic research | $27,573,125   | Not for Profit      | MARCO Microelectronics Advanced Research Corporation         | College of Engineering            | ERSO Engineering Research Support Organization          | 85550 | 034206-002       | Lee, Edward A       | 1/15/2013          | 10/31/2017       | The TerraSwarm Research Center                               | ERSO Engineering Research Support Organization          | 27573125     | 2013\n",
       "... (39812 rows omitted)"
      ]
     },
     "execution_count": 10,
     "metadata": {},
     "output_type": "execute_result"
    }
   ],
   "source": [
    "grant_data = Table.read_table('cleaned_research_spo_data.csv')\n",
    "grant_data"
   ]
  },
  {
   "cell_type": "code",
   "execution_count": 11,
   "metadata": {
    "collapsed": true
   },
   "outputs": [],
   "source": [
    "def select_values(table, column, true_vals):\n",
    "    lst = []\n",
    "    for i in range(len(table[column])):\n",
    "        val = table[column][i]\n",
    "        if val in true_vals:\n",
    "            lst.append(i)\n",
    "    return lst"
   ]
  },
  {
   "cell_type": "code",
   "execution_count": 12,
   "metadata": {
    "collapsed": false
   },
   "outputs": [
    {
     "data": {
      "text/html": [
       "<table border=\"1\" class=\"dataframe\">\n",
       "    <thead>\n",
       "        <tr>\n",
       "            <th>PI Name</th> <th>Dept/Division list</th> <th>Title list</th> <th>Year list</th>\n",
       "        </tr>\n",
       "    </thead>\n",
       "    <tbody>\n",
       "        <tr>\n",
       "            <td>Aaron, Holly L        </td> <td>['Cancer Research Laboratory']                              </td> <td>['Advanced Imaging Workshop']                               </td> <td>[2007]                                                      </td>\n",
       "        </tr>\n",
       "    </tbody>\n",
       "        <tr>\n",
       "            <td>Agogino, Alice M      </td> <td>['Mechanical Engineering']                                  </td> <td>['Approximate Models for Closed-Loop Trajectory Tracking ...</td> <td>[2015]                                                      </td>\n",
       "        </tr>\n",
       "    </tbody>\n",
       "        <tr>\n",
       "            <td>Alter, Robert B       </td> <td>['Jewish Graduate Studies', 'Jewish Graduate Studies', ' ...</td> <td>['Jewish Studies Course Support & Student Fellowship', ' ...</td> <td>[2007, 2007, 2009, 2007]                                    </td>\n",
       "        </tr>\n",
       "    </tbody>\n",
       "        <tr>\n",
       "            <td>Ames, Genevieve       </td> <td>['Public Health', 'Public Health', 'Public Health', 'Pub ...</td> <td>['Prevention Science Research Training Program', 'Preven ...</td> <td>[2009, 2009, 2009, 2009, 2009, 2009, 2009, 2009, 2009]      </td>\n",
       "        </tr>\n",
       "    </tbody>\n",
       "        <tr>\n",
       "            <td>Ammon, Paul R         </td> <td>['Graduate Education', 'Graduate Education']                </td> <td>['The Arts Education Initiative at Berkeley: Changing th ...</td> <td>[2009, 2009]                                                </td>\n",
       "        </tr>\n",
       "    </tbody>\n",
       "        <tr>\n",
       "            <td>Arnold, John          </td> <td>['Chemistry Department', 'Chemistry Department']            </td> <td>['IGERT: Systems Approach to Green Energy (SAGE)', 'Mate ...</td> <td>[2012, 2008]                                                </td>\n",
       "        </tr>\n",
       "    </tbody>\n",
       "        <tr>\n",
       "            <td>Asanovic, Krste       </td> <td>['EECS Electrical Engineering & Computer Sciences', 'EEC ...</td> <td>['GAANN ', 'GAANN ', 'GAANN ']                              </td> <td>[2012, 2012, 2012]                                          </td>\n",
       "        </tr>\n",
       "    </tbody>\n",
       "        <tr>\n",
       "            <td>Auffhammer, Maximilian</td> <td>['Haas Centers and Institutes']                             </td> <td>['Energy Institute at Haas Summer School']                  </td> <td>[2015]                                                      </td>\n",
       "        </tr>\n",
       "    </tbody>\n",
       "        <tr>\n",
       "            <td>Baker, Robin          </td> <td>[\"Dean's Office, Public Health\", \"Dean's Office, Public  ...</td> <td>['California Worker Training Program (WOSHTEP)', 'Califo ...</td> <td>[2008, 2007, 2010, 2008, 2009, 2010, 2007, 2007, 2007, 2 ...</td>\n",
       "        </tr>\n",
       "    </tbody>\n",
       "        <tr>\n",
       "            <td>Bale, Stuart          </td> <td>['SSL Space Sciences Lab', 'SSL Space Sciences Lab']        </td> <td>['CSU Star Program', 'CSU Star Program']                    </td> <td>[2013, 2013]                                                </td>\n",
       "        </tr>\n",
       "    </tbody>\n",
       "</table>\n",
       "<p>... (232 rows omitted)</p"
      ],
      "text/plain": [
       "PI Name                | Dept/Division list                                           | Title list                                                   | Year list\n",
       "Aaron, Holly L         | ['Cancer Research Laboratory']                               | ['Advanced Imaging Workshop']                                | [2007]\n",
       "Agogino, Alice M       | ['Mechanical Engineering']                                   | ['Approximate Models for Closed-Loop Trajectory Tracking ... | [2015]\n",
       "Alter, Robert B        | ['Jewish Graduate Studies', 'Jewish Graduate Studies', ' ... | ['Jewish Studies Course Support & Student Fellowship', ' ... | [2007, 2007, 2009, 2007]\n",
       "Ames, Genevieve        | ['Public Health', 'Public Health', 'Public Health', 'Pub ... | ['Prevention Science Research Training Program', 'Preven ... | [2009, 2009, 2009, 2009, 2009, 2009, 2009, 2009, 2009]\n",
       "Ammon, Paul R          | ['Graduate Education', 'Graduate Education']                 | ['The Arts Education Initiative at Berkeley: Changing th ... | [2009, 2009]\n",
       "Arnold, John           | ['Chemistry Department', 'Chemistry Department']             | ['IGERT: Systems Approach to Green Energy (SAGE)', 'Mate ... | [2012, 2008]\n",
       "Asanovic, Krste        | ['EECS Electrical Engineering & Computer Sciences', 'EEC ... | ['GAANN ', 'GAANN ', 'GAANN ']                               | [2012, 2012, 2012]\n",
       "Auffhammer, Maximilian | ['Haas Centers and Institutes']                              | ['Energy Institute at Haas Summer School']                   | [2015]\n",
       "Baker, Robin           | [\"Dean's Office, Public Health\", \"Dean's Office, Public  ... | ['California Worker Training Program (WOSHTEP)', 'Califo ... | [2008, 2007, 2010, 2008, 2009, 2010, 2007, 2007, 2007, 2 ...\n",
       "Bale, Stuart           | ['SSL Space Sciences Lab', 'SSL Space Sciences Lab']         | ['CSU Star Program', 'CSU Star Program']                     | [2013, 2013]\n",
       "... (232 rows omitted)"
      ]
     },
     "execution_count": 12,
     "metadata": {},
     "output_type": "execute_result"
    }
   ],
   "source": [
    "recent_data = grant_data.where('Year', are.above(2006))\n",
    "inst_training = recent_data.take(select_values(recent_data, 'Activity Type', ['Instruction', 'Training'])).sort('PI Name')\n",
    "pi_inst_training = inst_training.select(['PI Name', 'Dept/Division', 'Title', 'Year']).group('PI Name', list)\n",
    "pi_inst_training"
   ]
  },
  {
   "cell_type": "code",
   "execution_count": 13,
   "metadata": {
    "collapsed": true
   },
   "outputs": [],
   "source": [
    "pi_inst_training.to_df().to_csv('Instruction_Training_PI_listing_from2006.csv', index=False)"
   ]
  },
  {
   "cell_type": "code",
   "execution_count": 22,
   "metadata": {
    "collapsed": false
   },
   "outputs": [
    {
     "data": {
      "text/html": [
       "<table border=\"1\" class=\"dataframe\">\n",
       "    <thead>\n",
       "        <tr>\n",
       "            <th>PI Name</th> <th>Dept/Division list</th> <th>Title list</th> <th>Year list</th>\n",
       "        </tr>\n",
       "    </thead>\n",
       "    <tbody>\n",
       "        <tr>\n",
       "            <td>Alsayyad, Nezar          </td> <td>['Graduate Division Dean', 'Graduate Division Dean']        </td> <td>['National Resource Centers and Foreign Language and Are ...</td> <td>[2010, 2010]                                                </td>\n",
       "        </tr>\n",
       "    </tbody>\n",
       "        <tr>\n",
       "            <td>Cheah, Pheng             </td> <td>['Graduate Division']                                       </td> <td>['Foreign Language and Area Studies Fellowships']           </td> <td>[2014]                                                      </td>\n",
       "        </tr>\n",
       "    </tbody>\n",
       "        <tr>\n",
       "            <td>Cohen, Lawrence          </td> <td>['Graduate Division Dean', 'Graduate Division']             </td> <td>['National Resource Center and Foreign Language and Area ...</td> <td>[2010, 2014]                                                </td>\n",
       "        </tr>\n",
       "    </tbody>\n",
       "        <tr>\n",
       "            <td>Connelly, John           </td> <td>['Graduate Division', 'Graduate Division']                  </td> <td>['National Resource Centers Program and Foreign Language ...</td> <td>[2014, 2014]                                                </td>\n",
       "        </tr>\n",
       "    </tbody>\n",
       "        <tr>\n",
       "            <td>Dewulf, Jeroen           </td> <td>['Graduate Division', 'Graduate Division']                  </td> <td>['National Resource Centers Program and Foreign Language ...</td> <td>[2014, 2014]                                                </td>\n",
       "        </tr>\n",
       "    </tbody>\n",
       "        <tr>\n",
       "            <td>Doyle, Fiona M           </td> <td>['Graduate Division Dean', 'Graduate Division Dean', 'Gr ...</td> <td>['Fee Remission Graduate Student Program', 'Graduate Res ...</td> <td>[2013, 2010, 2010, 2010, 2010, 2010, 2010, 2010, 2010, 2 ...</td>\n",
       "        </tr>\n",
       "    </tbody>\n",
       "        <tr>\n",
       "            <td>Fernandez-Pello, A Carlos</td> <td>['Graduate Division Dean', 'Graduate Division', 'Graduat ...</td> <td>['California LSAMP Bridge to Doctorate (BD) Activity', ' ...</td> <td>[2012, 2008, 2010, 2007, 2008, 2007, 2007, 2009, 2007, 2 ...</td>\n",
       "        </tr>\n",
       "    </tbody>\n",
       "        <tr>\n",
       "            <td>Gottreich, Emily         </td> <td>['Graduate Division', 'Graduate Division']                  </td> <td>['National Resource Centers and Fellowships Program for  ...</td> <td>[2014, 2014]                                                </td>\n",
       "        </tr>\n",
       "    </tbody>\n",
       "        <tr>\n",
       "            <td>Hadler, Jeffrey          </td> <td>['Graduate Division Dean']                                  </td> <td>['UCB - UCLA Consortium for the Southeast Asia Studies N ...</td> <td>[2010]                                                      </td>\n",
       "        </tr>\n",
       "    </tbody>\n",
       "        <tr>\n",
       "            <td>Hinshaw, Stephen P       </td> <td>['Graduate Division', 'Graduate Division']                  </td> <td>['REU Site: Social Cultural Processes in Development and ...</td> <td>[2010, 2010]                                                </td>\n",
       "        </tr>\n",
       "    </tbody>\n",
       "</table>\n",
       "<p>... (6 rows omitted)</p"
      ],
      "text/plain": [
       "PI Name                   | Dept/Division list                                           | Title list                                                   | Year list\n",
       "Alsayyad, Nezar           | ['Graduate Division Dean', 'Graduate Division Dean']         | ['National Resource Centers and Foreign Language and Are ... | [2010, 2010]\n",
       "Cheah, Pheng              | ['Graduate Division']                                        | ['Foreign Language and Area Studies Fellowships']            | [2014]\n",
       "Cohen, Lawrence           | ['Graduate Division Dean', 'Graduate Division']              | ['National Resource Center and Foreign Language and Area ... | [2010, 2014]\n",
       "Connelly, John            | ['Graduate Division', 'Graduate Division']                   | ['National Resource Centers Program and Foreign Language ... | [2014, 2014]\n",
       "Dewulf, Jeroen            | ['Graduate Division', 'Graduate Division']                   | ['National Resource Centers Program and Foreign Language ... | [2014, 2014]\n",
       "Doyle, Fiona M            | ['Graduate Division Dean', 'Graduate Division Dean', 'Gr ... | ['Fee Remission Graduate Student Program', 'Graduate Res ... | [2013, 2010, 2010, 2010, 2010, 2010, 2010, 2010, 2010, 2 ...\n",
       "Fernandez-Pello, A Carlos | ['Graduate Division Dean', 'Graduate Division', 'Graduat ... | ['California LSAMP Bridge to Doctorate (BD) Activity', ' ... | [2012, 2008, 2010, 2007, 2008, 2007, 2007, 2009, 2007, 2 ...\n",
       "Gottreich, Emily          | ['Graduate Division', 'Graduate Division']                   | ['National Resource Centers and Fellowships Program for  ... | [2014, 2014]\n",
       "Hadler, Jeffrey           | ['Graduate Division Dean']                                   | ['UCB - UCLA Consortium for the Southeast Asia Studies N ... | [2010]\n",
       "Hinshaw, Stephen P        | ['Graduate Division', 'Graduate Division']                   | ['REU Site: Social Cultural Processes in Development and ... | [2010, 2010]\n",
       "... (6 rows omitted)"
      ]
     },
     "execution_count": 22,
     "metadata": {},
     "output_type": "execute_result"
    }
   ],
   "source": [
    "pi_grad_education = recent_data.take(select_values(recent_data, 'Dept/Division', ['Graduate  Education', 'Graduate Division', \\\n",
    "                                                              'Graduate Division Dean', 'Graduate Division Fellowships']))\n",
    "pi_grad_education = pi_grad_education.select(['PI Name', 'Dept/Division', 'Title', 'Year']).group('PI Name', list)\n",
    "pi_grad_education"
   ]
  },
  {
   "cell_type": "code",
   "execution_count": 24,
   "metadata": {
    "collapsed": true
   },
   "outputs": [],
   "source": [
    "pi_grad_education.to_df().to_csv('Grad_Education_PI_listing_from2006.csv', index=False)"
   ]
  }
 ],
 "metadata": {
  "kernelspec": {
   "display_name": "Python 3",
   "language": "python",
   "name": "python3"
  },
  "language_info": {
   "codemirror_mode": {
    "name": "ipython",
    "version": 3
   },
   "file_extension": ".py",
   "mimetype": "text/x-python",
   "name": "python",
   "nbconvert_exporter": "python",
   "pygments_lexer": "ipython3",
   "version": "3.4.4"
  }
 },
 "nbformat": 4,
 "nbformat_minor": 0
}
